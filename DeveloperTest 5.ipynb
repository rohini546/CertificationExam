{
 "cells": [
  {
   "cell_type": "code",
   "execution_count": 1,
   "id": "d17d2b84-d031-4095-b1aa-12d1c38dbd18",
   "metadata": {},
   "outputs": [
    {
     "name": "stderr",
     "output_type": "stream",
     "text": [
      "<frozen importlib._bootstrap>:219: RuntimeWarning: scipy._lib.messagestream.MessageStream size changed, may indicate binary incompatibility. Expected 56 from C header, got 64 from PyObject\n"
     ]
    }
   ],
   "source": [
    "import numpy as np\n",
    "\n",
    "# Importing standard Qiskit libraries\n",
    "from qiskit import QuantumCircuit, transpile, Aer, IBMQ\n",
    "from qiskit.tools.jupyter import *\n",
    "from qiskit.visualization import *\n",
    "from ibm_quantum_widgets import *\n",
    "from qiskit.providers.aer import QasmSimulator\n",
    "\n",
    "# Loading your IBM Quantum account(s)\n",
    "provider = IBMQ.load_account()"
   ]
  },
  {
   "cell_type": "code",
   "execution_count": 2,
   "id": "ad4cd43e-dcff-44e7-ac3f-998e48241e03",
   "metadata": {},
   "outputs": [],
   "source": [
    "#Developer Test-Operators and Fidelity"
   ]
  },
  {
   "cell_type": "code",
   "execution_count": 17,
   "id": "3a102acf-cb47-438d-bf14-da096d943ed5",
   "metadata": {},
   "outputs": [],
   "source": [
    "#initialization \n",
    "import matplotlib.pyplot as plt\n",
    "import numpy as np\n",
    "\n",
    "#ignore deprecation warnings because they are annoying (not recommened generally)\n",
    "from warnings import simplefilter \n",
    "simplefilter(action='ignore', category=DeprecationWarning)\n",
    "\n",
    "# Importing standard Qiskit libraries\n",
    "from qiskit import *\n",
    "from qiskit.tools.jupyter import *\n",
    "from qiskit.visualization import *\n",
    "from qiskit.quantum_info import *\n",
    "from qiskit.circuit.library import *\n",
    "from ibm_quantum_widgets import *"
   ]
  },
  {
   "cell_type": "code",
   "execution_count": 7,
   "id": "0920b760-3bf7-4f94-b666-a1fc802fa59b",
   "metadata": {},
   "outputs": [
    {
     "data": {
      "text/plain": [
       "Operator([[0.+0.j, 1.+0.j, 0.+0.j],\n",
       "          [1.+0.j, 0.+0.j, 0.+0.j],\n",
       "          [0.+0.j, 1.+0.j, 1.+0.j]],\n",
       "         input_dims=(3,), output_dims=(3,))"
      ]
     },
     "execution_count": 7,
     "metadata": {},
     "output_type": "execute_result"
    }
   ],
   "source": [
    "# let's create an arbitrary Operator from a matrix\n",
    "A = np.array([[0,1,0], [1,0,0], [0,1,1]])\n",
    "op = Operator(A)\n",
    "# Operator contains information about its matrix representation and input and output dimensions\n",
    "op"
   ]
  },
  {
   "cell_type": "code",
   "execution_count": 8,
   "id": "52d2d39f-a01b-4373-a215-5d06141fb96c",
   "metadata": {},
   "outputs": [
    {
     "data": {
      "text/plain": [
       "Operator([[ 0.5+0.j,  0.5+0.j,  0.5+0.j,  0.5+0.j],\n",
       "          [ 0.5+0.j, -0.5+0.j, -0.5+0.j,  0.5+0.j],\n",
       "          [ 0.5+0.j,  0.5+0.j, -0.5+0.j, -0.5+0.j],\n",
       "          [ 0.5+0.j, -0.5+0.j,  0.5+0.j, -0.5+0.j]],\n",
       "         input_dims=(2, 2), output_dims=(2, 2))"
      ]
     },
     "execution_count": 8,
     "metadata": {},
     "output_type": "execute_result"
    }
   ],
   "source": [
    "# create an Operator from a circuit yourself\n",
    "qc = QuantumCircuit(2)\n",
    "qc.h([0,1])\n",
    "qc.cx(0,1)\n",
    "\n",
    "op = Operator(qc)\n",
    "op"
   ]
  },
  {
   "cell_type": "code",
   "execution_count": 14,
   "id": "3eb04d20-d632-46d4-b085-f9e3e7d42a83",
   "metadata": {},
   "outputs": [
    {
     "data": {
      "text/plain": [
       "Operator([[ 0.5+0.j,  0.5+0.j,  0.5+0.j,  0.5+0.j],\n",
       "          [ 0.5+0.j, -0.5+0.j, -0.5+0.j,  0.5+0.j],\n",
       "          [ 0.5+0.j,  0.5+0.j, -0.5+0.j, -0.5+0.j],\n",
       "          [ 0.5+0.j, -0.5+0.j,  0.5+0.j, -0.5+0.j]],\n",
       "         input_dims=(2, 2), output_dims=(2, 2))"
      ]
     },
     "execution_count": 14,
     "metadata": {},
     "output_type": "execute_result"
    }
   ],
   "source": [
    "# create an Operator from a circuit yourself\n",
    "qc = QuantumCircuit(2)\n",
    "qc.h([0,1])\n",
    "qc.cx(0,1)\n",
    "#qc.draw()\n",
    "\n",
    "op = Operator(qc)\n",
    "op"
   ]
  },
  {
   "cell_type": "code",
   "execution_count": 10,
   "id": "8125d9b0-0f87-4b0e-920c-527e96b981e0",
   "metadata": {},
   "outputs": [
    {
     "data": {
      "text/plain": [
       "Operator([[ 0.70710678+0.j,  0.70710678+0.j,  0.        +0.j,\n",
       "            0.        +0.j],\n",
       "          [ 0.        +0.j,  0.        +0.j,  0.70710678+0.j,\n",
       "           -0.70710678+0.j],\n",
       "          [ 0.        +0.j,  0.        +0.j,  0.70710678+0.j,\n",
       "            0.70710678+0.j],\n",
       "          [ 0.70710678+0.j, -0.70710678+0.j,  0.        +0.j,\n",
       "            0.        +0.j]],\n",
       "         input_dims=(2, 2), output_dims=(2, 2))"
      ]
     },
     "execution_count": 10,
     "metadata": {},
     "output_type": "execute_result"
    }
   ],
   "source": [
    "# create an Operator from a circuit yourself\n",
    "qc = QuantumCircuit(2)\n",
    "qc.h([0])\n",
    "qc.cx(0,1)\n",
    "\n",
    "op = Operator(qc)\n",
    "op"
   ]
  },
  {
   "cell_type": "code",
   "execution_count": 15,
   "id": "a9fe3a39-1958-4e6b-95f3-eb3f9db8bf9b",
   "metadata": {},
   "outputs": [
    {
     "data": {
      "text/plain": [
       "Operator([[ 0.+0.j,  1.+0.j],\n",
       "          [-1.+0.j,  0.+0.j]],\n",
       "         input_dims=(2,), output_dims=(2,))"
      ]
     },
     "execution_count": 15,
     "metadata": {},
     "output_type": "execute_result"
    }
   ],
   "source": [
    "qc=QuantumCircuit(1)\n",
    "qc.x(0)\n",
    "qc.z(0)\n",
    "op=Operator(qc)\n",
    "op"
   ]
  },
  {
   "cell_type": "code",
   "execution_count": null,
   "id": "2cb8db23-d52b-4c77-8c7b-983853260cb7",
   "metadata": {},
   "outputs": [],
   "source": [
    "#Bell State"
   ]
  },
  {
   "cell_type": "code",
   "execution_count": 18,
   "id": "42ec5700-6b5d-4b34-aaf0-7d857d2f65bd",
   "metadata": {},
   "outputs": [
    {
     "data": {
      "text/latex": [
       "$$\\frac{\\sqrt{2}}{2} |00\\rangle+\\frac{\\sqrt{2}}{2} |11\\rangle$$"
      ],
      "text/plain": [
       "<IPython.core.display.Latex object>"
      ]
     },
     "execution_count": 18,
     "metadata": {},
     "output_type": "execute_result"
    }
   ],
   "source": [
    "# Bell state 0\n",
    "bell_0 = QuantumCircuit(2)\n",
    "bell_0.h(0)\n",
    "bell_0.cx(0,1)\n",
    "\n",
    "sv = Statevector.from_label('00')\n",
    "#evolve the initial state through the circuit\n",
    "sv_bell1 = sv.evolve(bell_0) \n",
    "sv_bell1.draw('latex')  "
   ]
  },
  {
   "cell_type": "code",
   "execution_count": 19,
   "id": "8af9390b-ea64-48ed-a6e4-96409ee8f6af",
   "metadata": {},
   "outputs": [
    {
     "data": {
      "text/latex": [
       "$$\\frac{\\sqrt{2}}{2} |00\\rangle- \\frac{\\sqrt{2}}{2} |11\\rangle$$"
      ],
      "text/plain": [
       "<IPython.core.display.Latex object>"
      ]
     },
     "execution_count": 19,
     "metadata": {},
     "output_type": "execute_result"
    }
   ],
   "source": [
    "# Bell state 1\n",
    "bell_1 = QuantumCircuit(2)\n",
    "bell_1.x(0)\n",
    "bell_1.h(0)\n",
    "bell_1.cx(0,1)\n",
    "\n",
    "sv = Statevector.from_label('00')\n",
    "#evolve the initial state through the circuit\n",
    "sv_bell2 = sv.evolve(bell_1) \n",
    "sv_bell2.draw('latex')\n"
   ]
  },
  {
   "cell_type": "code",
   "execution_count": 20,
   "id": "32ac3588-b2ec-4875-9bb9-ca6b12d4e997",
   "metadata": {},
   "outputs": [
    {
     "data": {
      "text/latex": [
       "$$\\frac{\\sqrt{2}}{2} |01\\rangle+\\frac{\\sqrt{2}}{2} |10\\rangle$$"
      ],
      "text/plain": [
       "<IPython.core.display.Latex object>"
      ]
     },
     "execution_count": 20,
     "metadata": {},
     "output_type": "execute_result"
    }
   ],
   "source": [
    "# Bell state 2\n",
    "bell_2 = QuantumCircuit(2)\n",
    "bell_2.x(0)\n",
    "bell_2.h(1)\n",
    "bell_2.cx(1,0)\n",
    "\n",
    "sv = Statevector.from_label('00')\n",
    "#evolve the initial state through the circuit\n",
    "sv_bell3 = sv.evolve(bell_2) \n",
    "sv_bell3.draw('latex')"
   ]
  },
  {
   "cell_type": "code",
   "execution_count": 21,
   "id": "d9f97ca4-dbae-4955-aabe-9f842d9b9975",
   "metadata": {},
   "outputs": [
    {
     "data": {
      "text/latex": [
       "$$\\frac{\\sqrt{2}}{2} |01\\rangle- \\frac{\\sqrt{2}}{2} |10\\rangle$$"
      ],
      "text/plain": [
       "<IPython.core.display.Latex object>"
      ]
     },
     "execution_count": 21,
     "metadata": {},
     "output_type": "execute_result"
    }
   ],
   "source": [
    "# create the last remaining Bell state on your own\n",
    "bell_3 = QuantumCircuit(2)\n",
    "\n",
    "### ADD CODE BELOW\n",
    "bell_3.x(0)\n",
    "bell_3.x(1)\n",
    "bell_3.h(1)\n",
    "bell_3.cx(1,0)\n",
    "### DON'T ADD CODE BELOW\n",
    "\n",
    "sv = Statevector.from_label('00')\n",
    "#evolve the initial state through the circuit\n",
    "sv_bell3 = sv.evolve(bell_3)\n",
    "sv_bell3.draw('latex')"
   ]
  },
  {
   "cell_type": "code",
   "execution_count": null,
   "id": "ae5a88a9-084d-416b-9eeb-dba71314d60e",
   "metadata": {},
   "outputs": [],
   "source": []
  }
 ],
 "metadata": {
  "kernelspec": {
   "display_name": "Python 3 (ipykernel)",
   "language": "python",
   "name": "python3"
  },
  "language_info": {
   "codemirror_mode": {
    "name": "ipython",
    "version": 3
   },
   "file_extension": ".py",
   "mimetype": "text/x-python",
   "name": "python",
   "nbconvert_exporter": "python",
   "pygments_lexer": "ipython3",
   "version": "3.8.13"
  },
  "widgets": {
   "application/vnd.jupyter.widget-state+json": {
    "state": {},
    "version_major": 2,
    "version_minor": 0
   }
  }
 },
 "nbformat": 4,
 "nbformat_minor": 5
}
