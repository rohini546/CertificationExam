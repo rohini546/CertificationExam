{
 "cells": [
  {
   "cell_type": "code",
   "execution_count": 1,
   "id": "891bb9b7-b3d6-487d-9b29-ec9f5c643126",
   "metadata": {},
   "outputs": [
    {
     "name": "stderr",
     "output_type": "stream",
     "text": [
      "<frozen importlib._bootstrap>:219: RuntimeWarning: scipy._lib.messagestream.MessageStream size changed, may indicate binary incompatibility. Expected 56 from C header, got 64 from PyObject\n"
     ]
    }
   ],
   "source": [
    "import numpy as np\n",
    "\n",
    "# Importing standard Qiskit libraries\n",
    "from qiskit import QuantumCircuit, transpile, Aer, IBMQ,QuantumRegister\n",
    "from qiskit.tools.jupyter import *\n",
    "from qiskit.visualization import *\n",
    "from ibm_quantum_widgets import *\n",
    "from qiskit.providers.aer import QasmSimulator\n",
    "\n",
    "# Loading your IBM Quantum account(s)\n",
    "provider = IBMQ.load_account()"
   ]
  },
  {
   "cell_type": "code",
   "execution_count": 2,
   "id": "6ff3fafa-61a4-4806-ac7c-bc9423460c9b",
   "metadata": {},
   "outputs": [
    {
     "name": "stderr",
     "output_type": "stream",
     "text": [
      "ibmqfactory.load_account:WARNING:2022-06-29 15:21:59,466: Credentials are already in use. The existing account in the session will be replaced.\n"
     ]
    }
   ],
   "source": [
    "import numpy as np\n",
    "# Importing standard Qiskit libraries\n",
    "from qiskit import *\n",
    "from qiskit.tools.jupyter import *\n",
    "from qiskit.visualization import *\n",
    "from ibm_quantum_widgets import *\n",
    "\n",
    "# Loading your IBM Quantum account(s)\n",
    "provider = IBMQ.load_account()"
   ]
  },
  {
   "cell_type": "code",
   "execution_count": 3,
   "id": "3c8cafbc-dcba-4246-9d53-3c3c8f3ce26c",
   "metadata": {},
   "outputs": [],
   "source": [
    "#Unitary Output"
   ]
  },
  {
   "cell_type": "code",
   "execution_count": 4,
   "id": "047c2f17-9fa5-41d7-8326-282a53da562c",
   "metadata": {},
   "outputs": [],
   "source": [
    "#|0>\n",
    "qc=QuantumCircuit(1)"
   ]
  },
  {
   "cell_type": "code",
   "execution_count": 5,
   "id": "6e279b2c-5f36-40df-bf03-29fb3a750efd",
   "metadata": {},
   "outputs": [
    {
     "data": {
      "text/plain": [
       "array([[1.+0.j, 0.+0.j],\n",
       "       [0.+0.j, 1.+0.j]])"
      ]
     },
     "execution_count": 5,
     "metadata": {},
     "output_type": "execute_result"
    }
   ],
   "source": [
    "back = BasicAer.get_backend('unitary_simulator')\n",
    "result = execute(qc, back).result()\n",
    "U = result.get_unitary(decimals=3)\n",
    "U"
   ]
  },
  {
   "cell_type": "code",
   "execution_count": 6,
   "id": "152124d5-4ea0-4e72-927c-9b4eda432159",
   "metadata": {},
   "outputs": [
    {
     "data": {
      "text/plain": [
       "<qiskit.circuit.instructionset.InstructionSet at 0x7f1b256cac00>"
      ]
     },
     "execution_count": 6,
     "metadata": {},
     "output_type": "execute_result"
    }
   ],
   "source": [
    "#|1>\n",
    "qc=QuantumCircuit(1)\n",
    "qc.x(0)"
   ]
  },
  {
   "cell_type": "code",
   "execution_count": 7,
   "id": "b42534dc-e8a8-4b89-9601-8971803c19a2",
   "metadata": {},
   "outputs": [
    {
     "data": {
      "text/plain": [
       "array([[0.+0.j, 1.+0.j],\n",
       "       [1.+0.j, 0.+0.j]])"
      ]
     },
     "execution_count": 7,
     "metadata": {},
     "output_type": "execute_result"
    }
   ],
   "source": [
    "back = BasicAer.get_backend('unitary_simulator')\n",
    "result = execute(qc, back).result()\n",
    "U = result.get_unitary(decimals=3)\n",
    "U"
   ]
  },
  {
   "cell_type": "code",
   "execution_count": 8,
   "id": "d9a5567f-049b-477c-b709-95dc7d41be4c",
   "metadata": {},
   "outputs": [
    {
     "data": {
      "image/png": "[encoded data removed]",
      "text/plain": [
       "<Figure size 146.652x144.48 with 1 Axes>"
      ]
     },
     "execution_count": 8,
     "metadata": {},
     "output_type": "execute_result"
    }
   ],
   "source": [
    "#CX gate\n",
    "qc=QuantumCircuit(2)\n",
    "qc.cx(0,1)\n",
    "qc.draw()"
   ]
  },
  {
   "cell_type": "code",
   "execution_count": 9,
   "id": "0d6eede4-5e9d-4b25-9773-4a35e7a8d929",
   "metadata": {},
   "outputs": [
    {
     "data": {
      "text/plain": [
       "array([[1.+0.j, 0.+0.j, 0.+0.j, 0.+0.j],\n",
       "       [0.+0.j, 0.+0.j, 0.+0.j, 1.+0.j],\n",
       "       [0.+0.j, 0.+0.j, 1.+0.j, 0.+0.j],\n",
       "       [0.+0.j, 1.+0.j, 0.+0.j, 0.+0.j]])"
      ]
     },
     "execution_count": 9,
     "metadata": {},
     "output_type": "execute_result"
    }
   ],
   "source": [
    "back = BasicAer.get_backend('unitary_simulator')\n",
    "result = execute(qc, back).result()\n",
    "U = result.get_unitary(decimals=3)\n",
    "U"
   ]
  },
  {
   "cell_type": "code",
   "execution_count": 10,
   "id": "f4108c7d-4dc4-4351-b8da-7840a88bee5b",
   "metadata": {},
   "outputs": [
    {
     "data": {
      "image/png": "[encoded data removed]",
      "text/plain": [
       "<Figure size 146.652x144.48 with 1 Axes>"
      ]
     },
     "execution_count": 10,
     "metadata": {},
     "output_type": "execute_result"
    }
   ],
   "source": [
    "#CZ Gate\n",
    "qc=QuantumCircuit(2)\n",
    "qc.cz(0,1)\n",
    "qc.draw()"
   ]
  },
  {
   "cell_type": "code",
   "execution_count": 11,
   "id": "2e0659b6-d515-4959-924d-8569b5e69844",
   "metadata": {},
   "outputs": [
    {
     "data": {
      "text/plain": [
       "array([[ 1.-0.j,  0.+0.j,  0.+0.j,  0.+0.j],\n",
       "       [ 0.+0.j,  1.-0.j,  0.+0.j,  0.+0.j],\n",
       "       [ 0.+0.j,  0.+0.j,  1.-0.j,  0.+0.j],\n",
       "       [ 0.+0.j,  0.+0.j,  0.+0.j, -1.+0.j]])"
      ]
     },
     "execution_count": 11,
     "metadata": {},
     "output_type": "execute_result"
    }
   ],
   "source": [
    "back = BasicAer.get_backend('unitary_simulator')\n",
    "result = execute(qc, back).result()\n",
    "U = result.get_unitary(decimals=3)\n",
    "U"
   ]
  },
  {
   "cell_type": "code",
   "execution_count": 12,
   "id": "36ea18a6-86af-4daf-a8b8-c62d38c05cf7",
   "metadata": {},
   "outputs": [
    {
     "data": {
      "image/png": "[encoded data removed]",
      "text/plain": [
       "<Figure size 206.852x144.48 with 1 Axes>"
      ]
     },
     "execution_count": 12,
     "metadata": {},
     "output_type": "execute_result"
    }
   ],
   "source": [
    "#CX, CZ\n",
    "qc=QuantumCircuit(2)\n",
    "qc.cx(0,1)\n",
    "qc.cz(0,1)\n",
    "qc.draw()"
   ]
  },
  {
   "cell_type": "code",
   "execution_count": 13,
   "id": "dc9f1b14-f871-4f20-b788-07f6fcc2bc5b",
   "metadata": {},
   "outputs": [
    {
     "data": {
      "text/plain": [
       "array([[ 1.-0.j,  0.+0.j,  0.+0.j,  0.+0.j],\n",
       "       [ 0.+0.j,  0.+0.j,  0.+0.j,  1.-0.j],\n",
       "       [ 0.+0.j,  0.+0.j,  1.-0.j,  0.+0.j],\n",
       "       [ 0.+0.j, -1.+0.j,  0.+0.j,  0.+0.j]])"
      ]
     },
     "execution_count": 13,
     "metadata": {},
     "output_type": "execute_result"
    }
   ],
   "source": [
    "back = BasicAer.get_backend('unitary_simulator')\n",
    "result = execute(qc, back).result()\n",
    "U = result.get_unitary(decimals=3)\n",
    "U"
   ]
  },
  {
   "cell_type": "code",
   "execution_count": 12,
   "id": "bc846951-181a-47c8-a29e-200014ae2feb",
   "metadata": {},
   "outputs": [
    {
     "data": {
      "image/png": "[encoded data removed]",
      "text/plain": [
       "<Figure size 191.797x204.68 with 1 Axes>"
      ]
     },
     "execution_count": 12,
     "metadata": {},
     "output_type": "execute_result"
    }
   ],
   "source": [
    "q = QuantumRegister(2,'q_reg')\n",
    "c = ClassicalRegister(2,'c_reg')\n",
    "qc = QuantumCircuit(q,c)\n",
    "qc.h(q[0:2])\n",
    "qc.draw('mpl')"
   ]
  },
  {
   "cell_type": "code",
   "execution_count": 13,
   "id": "c0d63b82-2ba4-4861-9ab0-ad10fbb47eb9",
   "metadata": {},
   "outputs": [
    {
     "data": {
      "text/plain": [
       "array([[ 0.5+0.j,  0.5-0.j,  0.5-0.j,  0.5-0.j],\n",
       "       [ 0.5+0.j, -0.5+0.j,  0.5-0.j, -0.5+0.j],\n",
       "       [ 0.5+0.j,  0.5-0.j, -0.5+0.j, -0.5+0.j],\n",
       "       [ 0.5+0.j, -0.5+0.j, -0.5+0.j,  0.5-0.j]])"
      ]
     },
     "execution_count": 13,
     "metadata": {},
     "output_type": "execute_result"
    }
   ],
   "source": [
    "back = BasicAer.get_backend('unitary_simulator')\n",
    "result = execute(qc, back).result()\n",
    "U = result.get_unitary(decimals=3)\n",
    "U"
   ]
  },
  {
   "cell_type": "code",
   "execution_count": 14,
   "id": "3b699508-2204-4113-a5c1-e09cf4f4cbd0",
   "metadata": {},
   "outputs": [
    {
     "data": {
      "image/png": "[encoded data removed]",
      "text/plain": [
       "<Figure size 251.997x204.68 with 1 Axes>"
      ]
     },
     "execution_count": 14,
     "metadata": {},
     "output_type": "execute_result"
    }
   ],
   "source": [
    "q = QuantumRegister(2,'q_reg')\n",
    "c = ClassicalRegister(2,'c_reg')\n",
    "qc = QuantumCircuit(q,c)\n",
    "qc.h(q[0])\n",
    "qc.x(q[0])\n",
    "qc.draw('mpl')"
   ]
  },
  {
   "cell_type": "code",
   "execution_count": 15,
   "id": "7a31d4da-03bd-4be2-be67-97f3d9b8243c",
   "metadata": {},
   "outputs": [
    {
     "data": {
      "text/plain": [
       "array([[ 0.707+0.j, -0.707+0.j,  0.   +0.j,  0.   +0.j],\n",
       "       [ 0.707+0.j,  0.707+0.j,  0.   +0.j,  0.   +0.j],\n",
       "       [ 0.   +0.j,  0.   +0.j,  0.707+0.j, -0.707+0.j],\n",
       "       [ 0.   +0.j,  0.   +0.j,  0.707+0.j,  0.707+0.j]])"
      ]
     },
     "execution_count": 15,
     "metadata": {},
     "output_type": "execute_result"
    }
   ],
   "source": [
    "back = BasicAer.get_backend('unitary_simulator')\n",
    "result = execute(qc, back).result()\n",
    "U = result.get_unitary(decimals=3)\n",
    "U"
   ]
  },
  {
   "cell_type": "code",
   "execution_count": 16,
   "id": "4be0c1dc-068d-46e0-9473-485c1f0f4615",
   "metadata": {},
   "outputs": [
    {
     "data": {
      "image/png": "[encoded data removed]",
      "text/plain": [
       "<Figure size 191.797x204.68 with 1 Axes>"
      ]
     },
     "execution_count": 16,
     "metadata": {},
     "output_type": "execute_result"
    }
   ],
   "source": [
    "q = QuantumRegister(2,'q_reg')\n",
    "c = ClassicalRegister(2,'c_reg')\n",
    "qc = QuantumCircuit(q,c)\n",
    "qc.h(q[0])\n",
    "qc.x(q[1])\n",
    "qc.draw('mpl')"
   ]
  },
  {
   "cell_type": "code",
   "execution_count": 17,
   "id": "be8eb96e-9311-4a9f-9043-e372ce371d3a",
   "metadata": {},
   "outputs": [
    {
     "data": {
      "text/plain": [
       "array([[ 0.   +0.j,  0.   +0.j,  0.707+0.j,  0.707-0.j],\n",
       "       [ 0.   +0.j,  0.   +0.j,  0.707+0.j, -0.707+0.j],\n",
       "       [ 0.707+0.j,  0.707-0.j,  0.   +0.j,  0.   +0.j],\n",
       "       [ 0.707+0.j, -0.707+0.j,  0.   +0.j,  0.   +0.j]])"
      ]
     },
     "execution_count": 17,
     "metadata": {},
     "output_type": "execute_result"
    }
   ],
   "source": [
    "back = BasicAer.get_backend('unitary_simulator')\n",
    "result = execute(qc, back).result()\n",
    "U = result.get_unitary(decimals=3)\n",
    "U"
   ]
  },
  {
   "cell_type": "code",
   "execution_count": 18,
   "id": "96963d0c-a907-476a-a169-5d5866f5ecde",
   "metadata": {},
   "outputs": [
    {
     "data": {
      "image/png": "[encoded data removed]",
      "text/plain": [
       "<Figure size 251.997x204.68 with 1 Axes>"
      ]
     },
     "execution_count": 18,
     "metadata": {},
     "output_type": "execute_result"
    }
   ],
   "source": [
    "q = QuantumRegister(2,'q_reg')\n",
    "c = ClassicalRegister(2,'c_reg')\n",
    "qc = QuantumCircuit(q,c)\n",
    "qc.h(q[0:2])\n",
    "qc.cx(q[0], q[1])\n",
    "qc.draw('mpl')"
   ]
  },
  {
   "cell_type": "code",
   "execution_count": 19,
   "id": "ddf79cd7-b77e-46c0-80dc-0f94a91a8828",
   "metadata": {},
   "outputs": [
    {
     "data": {
      "text/plain": [
       "array([[ 0.5+0.j,  0.5-0.j,  0.5-0.j,  0.5-0.j],\n",
       "       [ 0.5+0.j, -0.5+0.j, -0.5+0.j,  0.5-0.j],\n",
       "       [ 0.5+0.j,  0.5-0.j, -0.5+0.j, -0.5+0.j],\n",
       "       [ 0.5+0.j, -0.5+0.j,  0.5-0.j, -0.5+0.j]])"
      ]
     },
     "execution_count": 19,
     "metadata": {},
     "output_type": "execute_result"
    }
   ],
   "source": [
    "back = BasicAer.get_backend('unitary_simulator')\n",
    "result = execute(qc, back).result()\n",
    "U = result.get_unitary(decimals=3)\n",
    "U"
   ]
  },
  {
   "cell_type": "code",
   "execution_count": 20,
   "id": "8743cc04-b312-4d7b-ae75-409175d3dd4f",
   "metadata": {},
   "outputs": [
    {
     "data": {
      "image/png": "[encoded data removed]",
      "text/plain": [
       "<Figure size 191.797x204.68 with 1 Axes>"
      ]
     },
     "execution_count": 20,
     "metadata": {},
     "output_type": "execute_result"
    }
   ],
   "source": [
    "q = QuantumRegister(2,'q_reg')\n",
    "c = ClassicalRegister(2,'c_reg')\n",
    "qc = QuantumCircuit(q,c)\n",
    "#qc.h(q[0:2])\n",
    "qc.cx(q[1], q[0])\n",
    "qc.draw('mpl')"
   ]
  },
  {
   "cell_type": "code",
   "execution_count": 21,
   "id": "1a105c1f-07dd-4c4e-9dd9-645e6be0c1a6",
   "metadata": {},
   "outputs": [
    {
     "data": {
      "text/plain": [
       "array([[1.+0.j, 0.+0.j, 0.+0.j, 0.+0.j],\n",
       "       [0.+0.j, 1.+0.j, 0.+0.j, 0.+0.j],\n",
       "       [0.+0.j, 0.+0.j, 0.+0.j, 1.+0.j],\n",
       "       [0.+0.j, 0.+0.j, 1.+0.j, 0.+0.j]])"
      ]
     },
     "execution_count": 21,
     "metadata": {},
     "output_type": "execute_result"
    }
   ],
   "source": [
    "back = BasicAer.get_backend('unitary_simulator')\n",
    "result = execute(qc, back).result()\n",
    "U = result.get_unitary(decimals=3)\n",
    "U"
   ]
  },
  {
   "cell_type": "code",
   "execution_count": 24,
   "id": "7f27a581-b4e1-41ec-a78c-ad0c2f8130de",
   "metadata": {},
   "outputs": [
    {
     "data": {
      "image/png": "[encoded data removed]",
      "text/plain": [
       "<Figure size 206.852x144.48 with 1 Axes>"
      ]
     },
     "execution_count": 24,
     "metadata": {},
     "output_type": "execute_result"
    }
   ],
   "source": [
    "bell_0 = QuantumCircuit(2)\n",
    "bell_0.h(0)\n",
    "bell_0.cx(0,1)\n",
    "bell_0.draw('mpl')"
   ]
  },
  {
   "cell_type": "code",
   "execution_count": 26,
   "id": "e2d8e6da-d707-4473-993b-68830af1a5bc",
   "metadata": {},
   "outputs": [
    {
     "data": {
      "text/plain": [
       "array([[ 0.707+0.j,  0.707-0.j,  0.   +0.j,  0.   +0.j],\n",
       "       [ 0.   +0.j,  0.   +0.j,  0.707+0.j, -0.707+0.j],\n",
       "       [ 0.   +0.j,  0.   +0.j,  0.707+0.j,  0.707-0.j],\n",
       "       [ 0.707+0.j, -0.707+0.j,  0.   +0.j,  0.   +0.j]])"
      ]
     },
     "execution_count": 26,
     "metadata": {},
     "output_type": "execute_result"
    }
   ],
   "source": [
    "back = BasicAer.get_backend('unitary_simulator')\n",
    "result = execute(bell_0, back).result()\n",
    "U = result.get_unitary(decimals=3)\n",
    "U"
   ]
  },
  {
   "cell_type": "code",
   "execution_count": 27,
   "id": "e80566bf-ae8b-4dee-870d-d3e2f7f3e579",
   "metadata": {},
   "outputs": [
    {
     "data": {
      "image/png": "[encoded data removed]",
      "text/plain": [
       "<Figure size 206.852x144.48 with 1 Axes>"
      ]
     },
     "execution_count": 27,
     "metadata": {},
     "output_type": "execute_result"
    }
   ],
   "source": [
    "bell_1 = QuantumCircuit(2)\n",
    "bell_1.h(0)\n",
    "bell_1.x(1)\n",
    "bell_1.cx(0,1)\n",
    "bell_1.draw('mpl')"
   ]
  },
  {
   "cell_type": "code",
   "execution_count": 28,
   "id": "7a9093a1-0ff4-4047-815e-8c5d48cadb49",
   "metadata": {},
   "outputs": [
    {
     "data": {
      "text/plain": [
       "array([[ 0.   +0.j,  0.   +0.j,  0.707+0.j,  0.707-0.j],\n",
       "       [ 0.707+0.j, -0.707+0.j,  0.   +0.j,  0.   +0.j],\n",
       "       [ 0.707+0.j,  0.707-0.j,  0.   +0.j,  0.   +0.j],\n",
       "       [ 0.   +0.j,  0.   +0.j,  0.707+0.j, -0.707+0.j]])"
      ]
     },
     "execution_count": 28,
     "metadata": {},
     "output_type": "execute_result"
    }
   ],
   "source": [
    "back = BasicAer.get_backend('unitary_simulator')\n",
    "result = execute(bell_1, back).result()\n",
    "U = result.get_unitary(decimals=3)\n",
    "U"
   ]
  },
  {
   "cell_type": "code",
   "execution_count": 32,
   "id": "ebd3b755-dbde-4f06-820c-ad537184de9e",
   "metadata": {},
   "outputs": [
    {
     "data": {
      "image/png": "[encoded data removed]",
      "text/plain": [
       "<Figure size 267.052x144.48 with 1 Axes>"
      ]
     },
     "execution_count": 32,
     "metadata": {},
     "output_type": "execute_result"
    }
   ],
   "source": [
    "bell_2 = QuantumCircuit(2)\n",
    "bell_2.x(0)\n",
    "bell_2.h(0)\n",
    "\n",
    "bell_2.cx(0,1)\n",
    "bell_2.draw('mpl')"
   ]
  },
  {
   "cell_type": "code",
   "execution_count": 33,
   "id": "5c2e9420-ab3e-4669-a4ea-89cdd60749f4",
   "metadata": {},
   "outputs": [
    {
     "data": {
      "text/plain": [
       "array([[ 0.707+0.j,  0.707+0.j,  0.   +0.j,  0.   +0.j],\n",
       "       [ 0.   +0.j,  0.   +0.j, -0.707-0.j,  0.707+0.j],\n",
       "       [ 0.   +0.j,  0.   +0.j,  0.707+0.j,  0.707+0.j],\n",
       "       [-0.707-0.j,  0.707+0.j,  0.   +0.j,  0.   +0.j]])"
      ]
     },
     "execution_count": 33,
     "metadata": {},
     "output_type": "execute_result"
    }
   ],
   "source": [
    "back = BasicAer.get_backend('unitary_simulator')\n",
    "result = execute(bell_2, back).result()\n",
    "U = result.get_unitary(decimals=3)\n",
    "U"
   ]
  },
  {
   "cell_type": "code",
   "execution_count": 41,
   "id": "91f4e392-3e0e-4e3f-a8a9-ab6499364b33",
   "metadata": {},
   "outputs": [
    {
     "data": {
      "image/png": "[encoded data removed]",
      "text/plain": [
       "<Figure size 267.052x144.48 with 1 Axes>"
      ]
     },
     "execution_count": 41,
     "metadata": {},
     "output_type": "execute_result"
    }
   ],
   "source": [
    "bell_3 = QuantumCircuit(2)\n",
    "bell_3.x(0)\n",
    "bell_3.h(0)\n",
    "bell_3.x(1)\n",
    "bell_3.cx(0,1)\n",
    "bell_3.draw('mpl')"
   ]
  },
  {
   "cell_type": "code",
   "execution_count": 43,
   "id": "dfbd7b8b-a6b8-4123-9e13-d285f10e27f2",
   "metadata": {},
   "outputs": [
    {
     "data": {
      "text/plain": [
       "array([[ 0.   +0.j,  0.   +0.j,  0.707+0.j,  0.707+0.j],\n",
       "       [-0.707-0.j,  0.707+0.j,  0.   +0.j,  0.   +0.j],\n",
       "       [ 0.707+0.j,  0.707+0.j,  0.   +0.j,  0.   +0.j],\n",
       "       [ 0.   +0.j,  0.   +0.j, -0.707-0.j,  0.707+0.j]])"
      ]
     },
     "execution_count": 43,
     "metadata": {},
     "output_type": "execute_result"
    }
   ],
   "source": [
    "back = BasicAer.get_backend('unitary_simulator')\n",
    "result = execute(bell_3, back).result()\n",
    "U = result.get_unitary(decimals=3)\n",
    "U"
   ]
  },
  {
   "cell_type": "code",
   "execution_count": 44,
   "id": "559cf95f-6c0a-4a82-a1eb-2148d3a4644d",
   "metadata": {},
   "outputs": [],
   "source": [
    "#GHZ Circuit"
   ]
  },
  {
   "cell_type": "code",
   "execution_count": 48,
   "id": "09cf811b-2be9-415f-8298-453ae13385d2",
   "metadata": {},
   "outputs": [
    {
     "data": {
      "image/png": "[encoded data removed]",
      "text/plain": [
       "<Figure size 267.197x204.68 with 1 Axes>"
      ]
     },
     "execution_count": 48,
     "metadata": {},
     "output_type": "execute_result"
    }
   ],
   "source": [
    "ghz = QuantumCircuit(3)\n",
    "ghz.h(0)\n",
    "ghz.cx(0,1)\n",
    "ghz.cx(0,2)\n",
    "ghz.draw('mpl')"
   ]
  },
  {
   "cell_type": "code",
   "execution_count": 49,
   "id": "9a6f0d3c-c9c6-49a0-b9de-e414fd2d4d78",
   "metadata": {},
   "outputs": [
    {
     "data": {
      "text/plain": [
       "array([[ 0.707+0.j,  0.707-0.j,  0.   +0.j,  0.   +0.j,  0.   +0.j,\n",
       "         0.   +0.j,  0.   +0.j,  0.   +0.j],\n",
       "       [ 0.   +0.j,  0.   +0.j,  0.   +0.j,  0.   +0.j,  0.   +0.j,\n",
       "         0.   +0.j,  0.707+0.j, -0.707+0.j],\n",
       "       [ 0.   +0.j,  0.   +0.j,  0.707+0.j,  0.707-0.j,  0.   +0.j,\n",
       "         0.   +0.j,  0.   +0.j,  0.   +0.j],\n",
       "       [ 0.   +0.j,  0.   +0.j,  0.   +0.j,  0.   +0.j,  0.707+0.j,\n",
       "        -0.707+0.j,  0.   +0.j,  0.   +0.j],\n",
       "       [ 0.   +0.j,  0.   +0.j,  0.   +0.j,  0.   +0.j,  0.707+0.j,\n",
       "         0.707-0.j,  0.   +0.j,  0.   +0.j],\n",
       "       [ 0.   +0.j,  0.   +0.j,  0.707+0.j, -0.707+0.j,  0.   +0.j,\n",
       "         0.   +0.j,  0.   +0.j,  0.   +0.j],\n",
       "       [ 0.   +0.j,  0.   +0.j,  0.   +0.j,  0.   +0.j,  0.   +0.j,\n",
       "         0.   +0.j,  0.707+0.j,  0.707-0.j],\n",
       "       [ 0.707+0.j, -0.707+0.j,  0.   +0.j,  0.   +0.j,  0.   +0.j,\n",
       "         0.   +0.j,  0.   +0.j,  0.   +0.j]])"
      ]
     },
     "execution_count": 49,
     "metadata": {},
     "output_type": "execute_result"
    }
   ],
   "source": [
    "back = BasicAer.get_backend('unitary_simulator')\n",
    "result = execute(ghz, back).result()\n",
    "U = result.get_unitary(decimals=3)\n",
    "U"
   ]
  },
  {
   "cell_type": "code",
   "execution_count": 50,
   "id": "b1b4a448-69c7-42b1-af01-287de31f27e6",
   "metadata": {},
   "outputs": [
    {
     "name": "stdout",
     "output_type": "stream",
     "text": [
      "{'qiskit-terra': '0.20.2', 'qiskit-aer': '0.10.4', 'qiskit-ignis': '0.7.1', 'qiskit-ibmq-provider': '0.19.1', 'qiskit-aqua': None, 'qiskit': '0.36.2', 'qiskit-nature': '0.4.1', 'qiskit-finance': '0.3.2', 'qiskit-optimization': '0.3.2', 'qiskit-machine-learning': '0.4.0'}\n"
     ]
    }
   ],
   "source": [
    "import qiskit\n",
    "print(qiskit.__qiskit_version__)"
   ]
  },
  {
   "cell_type": "code",
   "execution_count": null,
   "id": "cb4aadfe-059f-40d6-ba0b-5ab79acc65b2",
   "metadata": {},
   "outputs": [],
   "source": []
  }
 ],
 "metadata": {
  "kernelspec": {
   "display_name": "Python 3 (ipykernel)",
   "language": "python",
   "name": "python3"
  },
  "language_info": {
   "codemirror_mode": {
    "name": "ipython",
    "version": 3
   },
   "file_extension": ".py",
   "mimetype": "text/x-python",
   "name": "python",
   "nbconvert_exporter": "python",
   "pygments_lexer": "ipython3",
   "version": "3.8.13"
  },
  "widgets": {
   "application/vnd.jupyter.widget-state+json": {
    "state": {
     "0189ff24009a4ee59721b7ace7dcafcc": {
      "model_module": "@jupyter-widgets/controls",
      "model_module_version": "1.5.0",
      "model_name": "HTMLModel",
      "state": {
       "layout": "IPY_MODEL_633d3580fc41446986711333b894da5e",
       "style": "IPY_MODEL_946d50720b274d749efa4ee3595216e4",
       "value": "<h5>Status</h5>"
      }
     },
     "049b37654a3e470398a05d4f965fb167": {
      "model_module": "@jupyter-widgets/base",
      "model_module_version": "1.2.0",
      "model_name": "LayoutModel",
      "state": {
       "width": "70px"
      }
     },
     "09a0e9bd377b48bc946766275d2a49a2": {
      "model_module": "@jupyter-widgets/base",
      "model_module_version": "1.2.0",
      "model_name": "LayoutModel",
      "state": {
       "margin": "0px 0px 10px 0px"
      }
     },
     "0a37aa76faf747a58a6feeac6a7b6c06": {
      "model_module": "@jupyter-widgets/controls",
      "model_module_version": "1.5.0",
      "model_name": "DescriptionStyleModel",
      "state": {
       "description_width": ""
      }
     },
     "123b9fd80fbf4f248b24b157b4919467": {
      "model_module": "@jupyter-widgets/controls",
      "model_module_version": "1.5.0",
      "model_name": "DescriptionStyleModel",
      "state": {
       "description_width": ""
      }
     },
     "135daa8b36a5444a980a2d13e13779a2": {
      "model_module": "@jupyter-widgets/controls",
      "model_module_version": "1.5.0",
      "model_name": "ButtonStyleModel",
      "state": {}
     },
     "21b44cb614314e40b73e84b4e945c49f": {
      "model_module": "@jupyter-widgets/base",
      "model_module_version": "1.2.0",
      "model_name": "LayoutModel",
      "state": {
       "grid_area": "right",
       "padding": "0px 0px 0px 0px",
       "width": "70px"
      }
     },
     "235a6f2fa30449b1865ac9697d7c0a15": {
      "model_module": "@jupyter-widgets/controls",
      "model_module_version": "1.5.0",
      "model_name": "HTMLModel",
      "state": {
       "layout": "IPY_MODEL_7b2ac9a18dd94891b44b9d7f9442b597",
       "style": "IPY_MODEL_f4e3d4ebb6ac44e0899baf2782f539e6",
       "value": "<h5>Backend</h5>"
      }
     },
     "5dac0862695d4d25b1e5d25949eb6d09": {
      "model_module": "@jupyter-widgets/base",
      "model_module_version": "1.2.0",
      "model_name": "LayoutModel",
      "state": {
       "width": "190px"
      }
     },
     "633d3580fc41446986711333b894da5e": {
      "model_module": "@jupyter-widgets/base",
      "model_module_version": "1.2.0",
      "model_name": "LayoutModel",
      "state": {
       "width": "95px"
      }
     },
     "65904c88dffa4170be8724ff2027ed89": {
      "model_module": "@jupyter-widgets/controls",
      "model_module_version": "1.5.0",
      "model_name": "HTMLModel",
      "state": {
       "layout": "IPY_MODEL_b4aacd5d40084659ab3e098b199f3690",
       "style": "IPY_MODEL_ba3b5a68972846ebb63bea63b4766163",
       "value": "<h5>Message</h5>"
      }
     },
     "6a30f4ac9644404f8623a148493ab5e9": {
      "model_module": "@jupyter-widgets/controls",
      "model_module_version": "1.5.0",
      "model_name": "HBoxModel",
      "state": {
       "children": [
        "IPY_MODEL_eed4922574824b7fa4c933f26b5066ac",
        "IPY_MODEL_235a6f2fa30449b1865ac9697d7c0a15",
        "IPY_MODEL_0189ff24009a4ee59721b7ace7dcafcc",
        "IPY_MODEL_d7a3cb6672e247f7942c5cbd54501fc8",
        "IPY_MODEL_65904c88dffa4170be8724ff2027ed89"
       ],
       "layout": "IPY_MODEL_ee1443f4ee2b4b6db2560e2b44d6b75c"
      }
     },
     "7b2ac9a18dd94891b44b9d7f9442b597": {
      "model_module": "@jupyter-widgets/base",
      "model_module_version": "1.2.0",
      "model_name": "LayoutModel",
      "state": {
       "width": "145px"
      }
     },
     "946d50720b274d749efa4ee3595216e4": {
      "model_module": "@jupyter-widgets/controls",
      "model_module_version": "1.5.0",
      "model_name": "DescriptionStyleModel",
      "state": {
       "description_width": ""
      }
     },
     "b4aacd5d40084659ab3e098b199f3690": {
      "model_module": "@jupyter-widgets/base",
      "model_module_version": "1.2.0",
      "model_name": "LayoutModel",
      "state": {}
     },
     "ba3b5a68972846ebb63bea63b4766163": {
      "model_module": "@jupyter-widgets/controls",
      "model_module_version": "1.5.0",
      "model_name": "DescriptionStyleModel",
      "state": {
       "description_width": ""
      }
     },
     "c725e35918c6444b9d77ec87944e99d2": {
      "model_module": "@jupyter-widgets/controls",
      "model_module_version": "1.5.0",
      "model_name": "ButtonModel",
      "state": {
       "button_style": "primary",
       "description": "Clear",
       "layout": "IPY_MODEL_21b44cb614314e40b73e84b4e945c49f",
       "style": "IPY_MODEL_135daa8b36a5444a980a2d13e13779a2"
      }
     },
     "d7a3cb6672e247f7942c5cbd54501fc8": {
      "model_module": "@jupyter-widgets/controls",
      "model_module_version": "1.5.0",
      "model_name": "HTMLModel",
      "state": {
       "layout": "IPY_MODEL_049b37654a3e470398a05d4f965fb167",
       "style": "IPY_MODEL_0a37aa76faf747a58a6feeac6a7b6c06",
       "value": "<h5>Queue</h5>"
      }
     },
     "e3a3412daf9b40a8812b771e9459493e": {
      "model_module": "@jupyter-widgets/controls",
      "model_module_version": "1.5.0",
      "model_name": "GridBoxModel",
      "state": {
       "children": [
        "IPY_MODEL_c725e35918c6444b9d77ec87944e99d2"
       ],
       "layout": "IPY_MODEL_e96330a7ddfc48acb7c0007365177b78"
      }
     },
     "e46bf96954854589878cc54a28dfd578": {
      "model_module": "@jupyter-widgets/controls",
      "model_module_version": "1.5.0",
      "model_name": "DescriptionStyleModel",
      "state": {
       "description_width": ""
      }
     },
     "e96330a7ddfc48acb7c0007365177b78": {
      "model_module": "@jupyter-widgets/base",
      "model_module_version": "1.2.0",
      "model_name": "LayoutModel",
      "state": {
       "grid_template_areas": "\n                                       \". . . . right \"\n                                        ",
       "grid_template_columns": "20% 20% 20% 20% 20%",
       "width": "100%"
      }
     },
     "ee1443f4ee2b4b6db2560e2b44d6b75c": {
      "model_module": "@jupyter-widgets/base",
      "model_module_version": "1.2.0",
      "model_name": "LayoutModel",
      "state": {
       "margin": "0px 0px 0px 37px",
       "width": "600px"
      }
     },
     "eed4922574824b7fa4c933f26b5066ac": {
      "model_module": "@jupyter-widgets/controls",
      "model_module_version": "1.5.0",
      "model_name": "HTMLModel",
      "state": {
       "layout": "IPY_MODEL_5dac0862695d4d25b1e5d25949eb6d09",
       "style": "IPY_MODEL_e46bf96954854589878cc54a28dfd578",
       "value": "<h5>Job ID</h5>"
      }
     },
     "f4b203a4039445c2a88ada5dd54b4d65": {
      "model_module": "@jupyter-widgets/controls",
      "model_module_version": "1.5.0",
      "model_name": "HTMLModel",
      "state": {
       "layout": "IPY_MODEL_09a0e9bd377b48bc946766275d2a49a2",
       "style": "IPY_MODEL_123b9fd80fbf4f248b24b157b4919467",
       "value": "<p style='font-family: IBM Plex Sans, Arial, Helvetica, sans-serif; font-size: 20px; font-weight: medium;'>Circuit Properties</p>"
      }
     },
     "f4e3d4ebb6ac44e0899baf2782f539e6": {
      "model_module": "@jupyter-widgets/controls",
      "model_module_version": "1.5.0",
      "model_name": "DescriptionStyleModel",
      "state": {
       "description_width": ""
      }
     }
    },
    "version_major": 2,
    "version_minor": 0
   }
  }
 },
 "nbformat": 4,
 "nbformat_minor": 5
}
