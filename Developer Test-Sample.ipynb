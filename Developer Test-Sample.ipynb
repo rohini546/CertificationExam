{
 "cells": [
  {
   "cell_type": "code",
   "execution_count": null,
   "id": "e77fa990-6478-4639-92f5-d9cb54486bed",
   "metadata": {},
   "outputs": [],
   "source": [
    "import numpy as np\n",
    "\n",
    "# Importing standard Qiskit libraries\n",
    "from qiskit import QuantumCircuit, transpile, Aer, IBMQ\n",
    "from qiskit.tools.jupyter import *\n",
    "from qiskit.visualization import *\n",
    "from ibm_quantum_widgets import *\n",
    "from qiskit.providers.aer import QasmSimulator\n",
    "\n",
    "# Loading your IBM Quantum account(s)\n",
    "provider = IBMQ.load_account()"
   ]
  },
  {
   "cell_type": "code",
   "execution_count": 2,
   "id": "e3514884-df40-43c6-97a8-65ecf9ef00a5",
   "metadata": {},
   "outputs": [],
   "source": [
    "import numpy as np\n",
    "import pandas as pd\n",
    "import matplotlib.pyplot as plt\n",
    "import seaborn as sns"
   ]
  },
  {
   "cell_type": "code",
   "execution_count": 3,
   "id": "db9ae26f-cd8e-4121-8c2a-1ab01fa6abb5",
   "metadata": {},
   "outputs": [],
   "source": [
    "# main classes and functions\n",
    "from qiskit import QuantumRegister, ClassicalRegister, QuantumCircuit, Aer, BasicAer, execute\n",
    "\n",
    "# visualization stuff\n",
    "from qiskit.visualization import (plot_histogram, plot_bloch_multivector,\n",
    "                                  plot_state_city, plot_state_hinton,\n",
    "                                  plot_state_qsphere,\n",
    "                                  plot_state_paulivec,\n",
    "                                  plot_bloch_multivector,\n",
    "                                  plot_bloch_vector,\n",
    "                                  plot_gate_map,\n",
    "                                  plot_error_map)\n",
    "\n",
    "\n",
    "# gates\n",
    "from qiskit.circuit.library import CXGate, MCMT, XGate\n",
    "\n",
    "# quantum info theory stuff\n",
    "from qiskit.quantum_info import Operator, Statevector, state_fidelity, process_fidelity, average_gate_fidelity\n",
    "\n",
    "# other tools\n",
    "from qiskit.tools import job_monitor\n",
    "from qiskit import IBMQ"
   ]
  },
  {
   "cell_type": "code",
   "execution_count": 4,
   "id": "52ffe92f-833e-45ee-9193-30d8cbb048fb",
   "metadata": {},
   "outputs": [],
   "source": [
    "#Auxiliary functions:"
   ]
  },
  {
   "cell_type": "code",
   "execution_count": 5,
   "id": "985d3916-3e38-4e9c-87f2-45e1b88c0d80",
   "metadata": {},
   "outputs": [],
   "source": [
    "def show_figure(fig):\n",
    "    '''\n",
    "    auxiliar function to display plot \n",
    "    even if it's not the last command of the cell\n",
    "    from: https://github.com/Qiskit/qiskit-terra/issues/1682\n",
    "    '''\n",
    "    \n",
    "    new_fig = plt.figure()\n",
    "    new_mngr = new_fig.canvas.manager\n",
    "    new_mngr.canvas.figure = fig\n",
    "    fig.set_canvas(new_mngr.canvas)\n",
    "    plt.show(fig)"
   ]
  },
  {
   "cell_type": "code",
   "execution_count": 6,
   "id": "b79d686c-9821-4695-b0d7-cb77ab009db7",
   "metadata": {},
   "outputs": [],
   "source": [
    "def test_circuit_qasm(qc):\n",
    "    ''' \n",
    "    auxiliar function, used to run a given quantum circuit with the qasm simulator.\n",
    "    measurement is added in this function, so you must pass a circuit\n",
    "    with no classical registers and measurements.\n",
    "    '''\n",
    "    \n",
    "    qc.measure_all()\n",
    "\n",
    "    #################################\n",
    "\n",
    "    backend = Aer.get_backend(\"qasm_simulator\")\n",
    "\n",
    "    job = execute(qc, backend, shots=1e5, seed_simulator=42)\n",
    "    results = job.result()\n",
    "    counts = results.get_counts()\n",
    "\n",
    "    return plot_histogram(counts, title=\"Results\", figsize=(12, 4))"
   ]
  },
  {
   "cell_type": "code",
   "execution_count": 7,
   "id": "54b175a9-d308-4827-b4d4-2a9a882190c9",
   "metadata": {},
   "outputs": [],
   "source": [
    "def test_circuit_sv(qc, print_stuff=True):\n",
    "    ''' \n",
    "    auxiliar function, used to run a given quantum circuit with the statevector simulator.\n",
    "    it optinally prints the state vector components and respective probabilities.\n",
    "    '''\n",
    "\n",
    "    backend = Aer.get_backend(\"statevector_simulator\")\n",
    "\n",
    "    job = execute(qc, backend, seed_simulator=42)\n",
    "    results = job.result()\n",
    "    counts = results.get_counts()\n",
    "    \n",
    "    if print_stuff:\n",
    "        sv = results.data(0)['statevector']\n",
    "        probs = sv**2\n",
    "\n",
    "        print(f\"Statevector:\\t{sv}\\n\")\n",
    "        print(f\"Probabilities:\\t{probs}\")\n",
    "\n",
    "    return plot_histogram(counts, title=\"Results\", figsize=(12, 4))\n"
   ]
  },
  {
   "cell_type": "code",
   "execution_count": 8,
   "id": "46c894cf-88a3-4fa9-9ab3-323bd19af2db",
   "metadata": {},
   "outputs": [
    {
     "data": {
      "text/plain": [
       "([QuantumRegister(4, 'q')], [ClassicalRegister(4, 'c')])"
      ]
     },
     "execution_count": 8,
     "metadata": {},
     "output_type": "execute_result"
    }
   ],
   "source": [
    "#1) Which statement will create a quantum circuit with four quantum bits and four classical bits?\n",
    "# 1 - A)\n",
    "\n",
    "qc = QuantumCircuit(4, 4)\n",
    "\n",
    "qc.qregs, qc.cregs"
   ]
  },
  {
   "cell_type": "code",
   "execution_count": 12,
   "id": "65aa92c5-dc1d-476b-a8f3-0ff3091891bd",
   "metadata": {},
   "outputs": [
    {
     "name": "stdout",
     "output_type": "stream",
     "text": [
      "Traceback \u001b[1;36m(most recent call last)\u001b[0m:\n",
      "\u001b[1;36m  File \u001b[1;32m\"/opt/conda/lib/python3.8/site-packages/IPython/core/compilerop.py\"\u001b[1;36m, line \u001b[1;32m101\u001b[1;36m, in \u001b[1;35mast_parse\u001b[1;36m\u001b[0m\n",
      "\u001b[1;33m    return compile(source, filename, symbol, self.flags | PyCF_ONLY_AST, 1)\u001b[0m\n",
      "\u001b[1;36m  File \u001b[1;32m\"/tmp/ipykernel_59/2428387079.py\"\u001b[1;36m, line \u001b[1;32m1\u001b[0m\n",
      "\u001b[1;33m    2) Given this code fragment, what is the probability that a measurement would result in $\\left | 0 \\right \\rangle$ ?\u001b[0m\n",
      "\u001b[1;37m     ^\u001b[0m\n",
      "\u001b[1;31mSyntaxError\u001b[0m\u001b[1;31m:\u001b[0m unmatched ')'\n",
      "\n",
      "Use %tb to get the full traceback.\n"
     ]
    },
    {
     "data": {
      "text/html": [
       "\n",
       "<style>\n",
       ".button {\n",
       "  border: none;\n",
       "  color: white;\n",
       "  padding: 4px 8px;\n",
       "  text-align: center;\n",
       "  text-decoration: none;\n",
       "  display: inline-block;\n",
       "  font-size: 12px;\n",
       "  margin: 4px 2px;\n",
       "  transition-duration: 0.2s;\n",
       "  cursor: pointer;\n",
       "}\n",
       ".iqx-button {\n",
       "  background-color: #0f62fe; \n",
       "  color: white; \n",
       "}\n",
       ".iqx-button:hover {\n",
       "  background-color: #0043ce;\n",
       "  color: white;\n",
       "}\n",
       "</style>\n",
       "<a href=\"https://stackoverflow.com/search?q=SyntaxError: unmatched ')'\" target='_blank'><button class='button iqx-button'>Search for solution online</button></a>\n"
      ],
      "text/plain": [
       "<IPython.core.display.HTML object>"
      ]
     },
     "metadata": {},
     "output_type": "display_data"
    }
   ],
   "source": [
    "2) Given this code fragment, what is the probability that a measurement would result in $\\left | 0 \\right \\rangle$ ?\n",
    "qc = QuantumCircuit(1)\n",
    "qc.ry(3 * math.pi/4, 0)"
   ]
  },
  {
   "cell_type": "code",
   "execution_count": 10,
   "id": "8cc46782-437c-4bad-b2ff-e19655ce82d2",
   "metadata": {},
   "outputs": [
    {
     "name": "stdout",
     "output_type": "stream",
     "text": [
      "Statevector:\t[0.38268343+0.j 0.92387953+0.j]\n",
      "\n",
      "Probabilities:\t[0.14644661+0.j 0.85355339+0.j]\n"
     ]
    },
    {
     "data": {
      "image/png": "[encoded data removed]",
      "text/plain": [
       "<Figure size 864x288 with 1 Axes>"
      ]
     },
     "execution_count": 10,
     "metadata": {},
     "output_type": "execute_result"
    }
   ],
   "source": [
    "# 2 - C)\n",
    "\n",
    "qc = QuantumCircuit(1)\n",
    "\n",
    "qc.ry(3*np.pi/4, 0)\n",
    "\n",
    "test_circuit_sv(qc)"
   ]
  },
  {
   "cell_type": "code",
   "execution_count": null,
   "id": "a34c0e4a-12cd-4e27-bd51-0325a714b1c8",
   "metadata": {},
   "outputs": [],
   "source": [
    "3) Assuming the fragment below, which three code fragments would produce the circuit illustrated?\n",
    "inp_reg = QuantumRegister(2, name='inp')\n",
    "ancilla = QuantumRegister(1, name='anc')\n",
    "qc = QuantumCircuit(inp_reg, ancilla)\n",
    "\n",
    "# Insert code here\n",
    "(See picture in the sample test pdf!)"
   ]
  },
  {
   "cell_type": "code",
   "execution_count": 15,
   "id": "064c2872-0405-41b7-bafb-71b3f5ed9604",
   "metadata": {},
   "outputs": [
    {
     "data": {
      "image/png": "[encoded data removed]",
      "text/plain": [
       "<Figure size 411.537x204.68 with 1 Axes>"
      ]
     },
     "execution_count": 15,
     "metadata": {},
     "output_type": "execute_result"
    }
   ],
   "source": [
    "# 3 - A), B) & D) are possible\n",
    "\n",
    "inp_reg = QuantumRegister(2, name=\"inp\")\n",
    "ancilla = QuantumRegister(1, name=\"anc\")\n",
    "\n",
    "qc = QuantumCircuit(inp_reg, ancilla)\n",
    "\n",
    "qc.h(inp_reg)\n",
    "qc.x(ancilla)\n",
    "\n",
    "qc.barrier()\n",
    "\n",
    "qc.h(inp_reg[0])\n",
    "qc.h(inp_reg[1])\n",
    "qc.x(ancilla)\n",
    "\n",
    "qc.barrier()\n",
    "\n",
    "qc.h(inp_reg[0:2])\n",
    "qc.x(ancilla[0])\n",
    "\n",
    "qc.draw(\"mpl\")\n"
   ]
  },
  {
   "cell_type": "code",
   "execution_count": null,
   "id": "aafb9ccb-2252-402a-b458-2c371062e8a5",
   "metadata": {},
   "outputs": [],
   "source": [
    "4) Given an empty QuantumCircuit object, qc, with three qubits and three classical bits, which one of these code fragments would create this circuit?\n",
    "(See picture in the sample test pdf!)"
   ]
  },
  {
   "cell_type": "code",
   "execution_count": 16,
   "id": "d5e537d4-7d69-42d1-aad7-c98ce15a151e",
   "metadata": {},
   "outputs": [
    {
     "data": {
      "image/png": "[encoded data removed]",
      "text/plain": [
       "<Figure size 267.197x264.88 with 1 Axes>"
      ]
     },
     "execution_count": 16,
     "metadata": {},
     "output_type": "execute_result"
    }
   ],
   "source": [
    "# 4 - A)\n",
    "\n",
    "inp = QuantumRegister(3, name=\"q\")\n",
    "meas = ClassicalRegister(3, name=\"c\")\n",
    "\n",
    "qc = QuantumCircuit(inp, meas)\n",
    "\n",
    "# # this would also be possible, but it's not in options\n",
    "# qc.measure(inp, meas)\n",
    "\n",
    "qc.measure([0, 1, 2], [0, 1, 2])\n",
    "\n",
    "qc.draw(\"mpl\")"
   ]
  },
  {
   "cell_type": "code",
   "execution_count": null,
   "id": "7a4854e9-ce0f-4c57-98f8-87f71d5c0fc0",
   "metadata": {},
   "outputs": [],
   "source": [
    "5) Which code fragment will produce a maximally entangled, or Bell, state?"
   ]
  },
  {
   "cell_type": "code",
   "execution_count": 17,
   "id": "0342b42e-d5ee-4359-ad86-de3135ee6032",
   "metadata": {},
   "outputs": [
    {
     "data": {
      "image/png": "[encoded data removed]",
      "text/plain": [
       "<Figure size 206.852x144.48 with 1 Axes>"
      ]
     },
     "metadata": {},
     "output_type": "display_data"
    },
    {
     "name": "stdout",
     "output_type": "stream",
     "text": [
      "Statevector:\t[0.        +0.j 0.70710678+0.j 0.70710678+0.j 0.        +0.j]\n",
      "\n",
      "Probabilities:\t[0. +0.j 0.5+0.j 0.5+0.j 0. +0.j]\n"
     ]
    },
    {
     "data": {
      "image/png": "[encoded data removed]",
      "text/plain": [
       "<Figure size 864x288 with 1 Axes>"
      ]
     },
     "execution_count": 17,
     "metadata": {},
     "output_type": "execute_result"
    }
   ],
   "source": [
    "# 5 - A)\n",
    "\n",
    "bell = QuantumCircuit(2)\n",
    "\n",
    "# this makes |01> + |10>\n",
    "bell.h(0)\n",
    "bell.x(1)\n",
    "bell.cx(0, 1)\n",
    "\n",
    "show_figure(bell.draw(\"mpl\"))\n",
    "test_circuit_sv(bell)"
   ]
  },
  {
   "cell_type": "code",
   "execution_count": 18,
   "id": "c4295557-4310-4aba-98e2-321a7d558f1f",
   "metadata": {},
   "outputs": [
    {
     "name": "stdout",
     "output_type": "stream",
     "text": [
      "Object `sphere` not found.\n"
     ]
    }
   ],
   "source": [
    "6) Given this code, which two inserted code fragments result in the state vector represented by this Bloch sphere?\n",
    "qc = QuantumCircuit(1,1)\n",
    "# Insert code fragment here\n",
    "\n",
    "simulator = Aer.get_backend('statevector_simulator')\n",
    "job = execute(qc, simulator)\n",
    "result = job.result()\n",
    "outputstate = result.get_statevector(qc)\n",
    "plot_bloch_multivector(outputstate)\n",
    "(See picture in the sample test pdf!)"
   ]
  },
  {
   "cell_type": "code",
   "execution_count": 19,
   "id": "24ad4cbf-8cb8-454b-9895-f52665a2bb67",
   "metadata": {},
   "outputs": [
    {
     "data": {
      "image/png": "[encoded data removed]",
      "text/plain": [
       "<Figure size 133.526x144.48 with 1 Axes>"
      ]
     },
     "metadata": {},
     "output_type": "display_data"
    },
    {
     "name": "stdout",
     "output_type": "stream",
     "text": [
      "\n",
      "State:\t[0.70710678+0.j 0.70710678+0.j]\n",
      "\n"
     ]
    },
    {
     "name": "stderr",
     "output_type": "stream",
     "text": [
      "/opt/conda/lib/python3.8/site-packages/qiskit/visualization/bloch.py:69: MatplotlibDeprecationWarning: \n",
      "The M attribute was deprecated in Matplotlib 3.4 and will be removed two minor releases later. Use self.axes.M instead.\n",
      "  x_s, y_s, _ = proj3d.proj_transform(xs3d, ys3d, zs3d, renderer.M)\n"
     ]
    },
    {
     "data": {
      "image/png": "[encoded data removed]",
      "text/plain": [
       "<Figure size 288x288 with 1 Axes>"
      ]
     },
     "execution_count": 19,
     "metadata": {},
     "output_type": "execute_result"
    }
   ],
   "source": [
    "# 6 - A) & C)\n",
    "\n",
    "qc = QuantumCircuit(1, 1)\n",
    "\n",
    "# # both below are equivalent\n",
    "\n",
    "# qc.h(0)\n",
    "qc.ry(np.pi/2, 0)\n",
    "\n",
    "show_figure(qc.draw(\"mpl\"))\n",
    "\n",
    "simulator = Aer.get_backend(\"statevector_simulator\")\n",
    "job = execute(qc, simulator)\n",
    "results = job.result()\n",
    "\n",
    "outputstate = results.get_statevector(qc)\n",
    "\n",
    "print(f\"\\nState:\\t{outputstate}\\n\")\n",
    "\n",
    "plot_bloch_multivector(outputstate)"
   ]
  },
  {
   "cell_type": "code",
   "execution_count": null,
   "id": "bf6b314d-d358-4ad3-9d0c-8c39df928373",
   "metadata": {},
   "outputs": [],
   "source": [
    "7) S-gate is a Qiskit phase gate with what value of the phase parameter?"
   ]
  },
  {
   "cell_type": "code",
   "execution_count": 20,
   "id": "01f7de4d-a38b-4328-8738-d513ad3fcbfa",
   "metadata": {},
   "outputs": [
    {
     "data": {
      "image/png": "[encoded data removed]",
      "text/plain": [
       "<Figure size 193.726x84.28 with 1 Axes>"
      ]
     },
     "metadata": {},
     "output_type": "display_data"
    },
    {
     "name": "stdout",
     "output_type": "stream",
     "text": [
      "\n",
      "State:\t[7.07106781e-01+0.j         4.32978028e-17+0.70710678j]\n",
      "\n"
     ]
    },
    {
     "name": "stderr",
     "output_type": "stream",
     "text": [
      "/opt/conda/lib/python3.8/site-packages/qiskit/visualization/bloch.py:69: MatplotlibDeprecationWarning: \n",
      "The M attribute was deprecated in Matplotlib 3.4 and will be removed two minor releases later. Use self.axes.M instead.\n",
      "  x_s, y_s, _ = proj3d.proj_transform(xs3d, ys3d, zs3d, renderer.M)\n"
     ]
    },
    {
     "data": {
      "image/png": "[encoded data removed]",
      "text/plain": [
       "<Figure size 288x288 with 1 Axes>"
      ]
     },
     "execution_count": 20,
     "metadata": {},
     "output_type": "execute_result"
    }
   ],
   "source": [
    "# 7 - B)\n",
    "\n",
    "# S gate induces a pi/2 phase! (is a P gate with \\theta = pi/2, i.e., it's a Rz gate with \\theta = pi/2)\n",
    "# tip: S = T^2, hence the \"S\" stands for \"T Squared\" (not sure if that's the actual reason for the name, but it's a mnemonic)\n",
    "\n",
    "qc = QuantumCircuit(1)\n",
    "\n",
    "qc.h(0)\n",
    "qc.s(0)\n",
    "\n",
    "show_figure(qc.draw(\"mpl\"))\n",
    "\n",
    "simulator = Aer.get_backend(\"statevector_simulator\")\n",
    "job = execute(qc, simulator)\n",
    "results = job.result()\n",
    "\n",
    "outputstate = results.get_statevector(qc)\n",
    "print(f\"\\nState:\\t{outputstate}\\n\")\n",
    "\n",
    "plot_bloch_multivector(outputstate)"
   ]
  },
  {
   "cell_type": "code",
   "execution_count": 21,
   "id": "e0ba5894-5036-4920-af93-b6596c214a92",
   "metadata": {},
   "outputs": [
    {
     "data": {
      "image/png": "[encoded data removed]",
      "text/plain": [
       "<Figure size 193.726x84.28 with 1 Axes>"
      ]
     },
     "metadata": {},
     "output_type": "display_data"
    },
    {
     "name": "stdout",
     "output_type": "stream",
     "text": [
      "\n",
      "State:\tStatevector([0.70710678+0.j        , 0.        +0.70710678j],\n",
      "            dims=(2,))\n",
      "\n"
     ]
    },
    {
     "name": "stderr",
     "output_type": "stream",
     "text": [
      "/opt/conda/lib/python3.8/site-packages/qiskit/visualization/bloch.py:69: MatplotlibDeprecationWarning: \n",
      "The M attribute was deprecated in Matplotlib 3.4 and will be removed two minor releases later. Use self.axes.M instead.\n",
      "  x_s, y_s, _ = proj3d.proj_transform(xs3d, ys3d, zs3d, renderer.M)\n"
     ]
    },
    {
     "data": {
      "image/png": "[encoded data removed]",
      "text/plain": [
       "<Figure size 288x288 with 1 Axes>"
      ]
     },
     "execution_count": 21,
     "metadata": {},
     "output_type": "execute_result"
    }
   ],
   "source": [
    "# another way to get the statevector, using the Statevector class\n",
    "\n",
    "qc = QuantumCircuit(1)\n",
    "\n",
    "qc.h(0)\n",
    "qc.s(0)\n",
    "\n",
    "show_figure(qc.draw(\"mpl\"))\n",
    "\n",
    "outputstate = Statevector.from_label(\"0\").evolve(qc)\n",
    "\n",
    "print(f\"\\nState:\\t{outputstate}\\n\")\n",
    "\n",
    "plot_bloch_multivector(outputstate)"
   ]
  },
  {
   "cell_type": "code",
   "execution_count": null,
   "id": "29242fb4-8ad2-4dfd-80a6-0de58705ac55",
   "metadata": {},
   "outputs": [],
   "source": [
    "8) Which two code fragments, when inserted into the code below, will produce the statevector shown in the output?\n",
    "from qiskit import QuantumCircuit, Aer, execute\n",
    "from math import sqrt\n",
    "\n",
    "qc = QuantumCircuit(2)\n",
    "\n",
    "# Insert fragment here\n",
    "\n",
    "simulator = Aer.get_backend('statevector_simulator')\n",
    "result = execute(qc, simulator).result()\n",
    "statevector = result.get_statevector()\n",
    "print(statevector)\n",
    "Output:\n",
    "\n",
    "[0.707+0.j 0.+0.j 0.+0.j 0.707+0.j]"
   ]
  },
  {
   "cell_type": "code",
   "execution_count": 22,
   "id": "8bddf65f-059b-4d20-8695-ee4baa62189f",
   "metadata": {},
   "outputs": [
    {
     "data": {
      "image/png": "[encoded data removed]",
      "text/plain": [
       "<Figure size 206.852x144.48 with 1 Axes>"
      ]
     },
     "metadata": {},
     "output_type": "display_data"
    },
    {
     "name": "stdout",
     "output_type": "stream",
     "text": [
      "\n",
      "State:\t[0.70710678+0.j 0.        +0.j 0.        +0.j 0.70710678+0.j]\n",
      "\n"
     ]
    }
   ],
   "source": [
    "# 8 - A), B)\n",
    "\n",
    "qc = QuantumCircuit(2)\n",
    "\n",
    "# # both options below work\n",
    "\n",
    "# v = [1/np.sqrt(2), 0, 0, 1/np.sqrt(2)]\n",
    "# qc.initialize(v, [0, 1])\n",
    "\n",
    "qc.h(0)\n",
    "qc.cx(0, 1)\n",
    "\n",
    "show_figure(qc.draw(\"mpl\"))\n",
    "\n",
    "simulator = Aer.get_backend(\"statevector_simulator\")\n",
    "result = execute(qc, simulator).result()\n",
    "statevector = result.get_statevector(qc)\n",
    "\n",
    "print(f\"\\nState:\\t{statevector}\\n\")"
   ]
  },
  {
   "cell_type": "code",
   "execution_count": null,
   "id": "974efa2f-ccbf-4e50-a926-06a47ab8b99f",
   "metadata": {},
   "outputs": [],
   "source": [
    "9) Which code fragment will produce a multi-qubit gate other than a CNOT ?"
   ]
  },
  {
   "cell_type": "code",
   "execution_count": 23,
   "id": "f80144e9-c3a6-4039-b2f6-b5c9b80036e5",
   "metadata": {},
   "outputs": [
    {
     "data": {
      "image/png": "[encoded data removed]",
      "text/plain": [
       "<Figure size 568.052x144.48 with 1 Axes>"
      ]
     },
     "execution_count": 23,
     "metadata": {},
     "output_type": "execute_result"
    }
   ],
   "source": [
    "# 9 - D)\n",
    "\n",
    "# notice how the first tree are equivalent to cnot\n",
    "# the last one is the only multi-qubit gate OTHER THAN a cnot ;)\n",
    "\n",
    "qc = QuantumCircuit(2)\n",
    "\n",
    "################################\n",
    "\n",
    "qc.cx(0, 1)\n",
    "qc.barrier()\n",
    "\n",
    "################################\n",
    "\n",
    "qc.cnot(0, 1)\n",
    "qc.barrier()\n",
    "\n",
    "################################\n",
    "\n",
    "# that's nice! multi-controlled x\n",
    "qc.mct([0], 1)\n",
    "qc.barrier()\n",
    "\n",
    "################################\n",
    "\n",
    "qc.cz(0, 1)\n",
    "qc.barrier()\n",
    "\n",
    "################################\n",
    "\n",
    "qc.draw(\"mpl\")"
   ]
  },
  {
   "cell_type": "code",
   "execution_count": null,
   "id": "421c1a7a-f431-4715-909b-f486022eb051",
   "metadata": {},
   "outputs": [],
   "source": [
    "10) Which code fragment will produce a multi-qubit gate other than a Toffoli?"
   ]
  },
  {
   "cell_type": "code",
   "execution_count": 24,
   "id": "99535f8e-1c51-4c1a-84a6-dbe23faf5a81",
   "metadata": {},
   "outputs": [
    {
     "data": {
      "image/png": "[encoded data removed]",
      "text/plain": [
       "<Figure size 568.197x204.68 with 1 Axes>"
      ]
     },
     "execution_count": 24,
     "metadata": {},
     "output_type": "execute_result"
    }
   ],
   "source": [
    "# 10 - D)\n",
    "\n",
    "# notice how the first tree are equivalent to the toffoli gate\n",
    "# the last one is the only multi-qubit gate OTHER THAN a toffoli ;)\n",
    "\n",
    "qc = QuantumCircuit(3)\n",
    "\n",
    "################################\n",
    "\n",
    "qc.ccx(0, 1, 2)\n",
    "qc.barrier()\n",
    "\n",
    "################################\n",
    "\n",
    "qc.mct([0, 1], 2)\n",
    "qc.barrier()\n",
    "\n",
    "################################\n",
    "\n",
    "# very nice construction!\n",
    "\n",
    "ccx = CXGate().control()\n",
    "qc.append(ccx, [0, 1, 2])\n",
    "\n",
    "qc.barrier()\n",
    "\n",
    "################################\n",
    "\n",
    "qc.cry(0, 1, 2)\n",
    "qc.barrier()\n",
    "\n",
    "################################\n",
    "\n",
    "qc.draw(\"mpl\")\n"
   ]
  },
  {
   "cell_type": "code",
   "execution_count": 25,
   "id": "e5d07502-0bea-4c39-8303-cd0a68b241b6",
   "metadata": {},
   "outputs": [
    {
     "data": {
      "image/png": "[encoded data removed]",
      "text/plain": [
       "<Figure size 146.797x204.68 with 1 Axes>"
      ]
     },
     "execution_count": 25,
     "metadata": {},
     "output_type": "execute_result"
    }
   ],
   "source": [
    "# another nice way to do toffoli\n",
    "\n",
    "qc = QuantumCircuit(3)\n",
    "\n",
    "mct = MCMT(gate='x', num_ctrl_qubits = 2, num_target_qubits = 1)\n",
    "\n",
    "qc.append(mct, [0,1,2]) \n",
    "\n",
    "qc = qc.decompose()\n",
    "\n",
    "qc.draw(\"mpl\")"
   ]
  },
  {
   "cell_type": "code",
   "execution_count": null,
   "id": "9e9bcfdd-9108-4121-abd0-09050354371a",
   "metadata": {},
   "outputs": [],
   "source": [
    "11) Which two options would place a barrier across all qubits to the QuantumCircuit below?\n",
    "qc = QuantumCircuit(3,3)"
   ]
  },
  {
   "cell_type": "code",
   "execution_count": 26,
   "id": "c59b18c8-25c4-4f56-9187-53cef773fdec",
   "metadata": {},
   "outputs": [
    {
     "data": {
      "image/png": "[encoded data removed]",
      "text/plain": [
       "<Figure size 206.997x264.88 with 1 Axes>"
      ]
     },
     "execution_count": 26,
     "metadata": {},
     "output_type": "execute_result"
    }
   ],
   "source": [
    "# 11 - B) & C)\n",
    "\n",
    "qc = QuantumCircuit(3, 3)\n",
    "\n",
    "qc.barrier()\n",
    "\n",
    "qc.barrier([0, 1, 2])\n",
    "\n",
    "qc.draw(\"mpl\")"
   ]
  },
  {
   "cell_type": "code",
   "execution_count": null,
   "id": "54a54323-5ccc-421c-ac09-e0d4acd0ac82",
   "metadata": {},
   "outputs": [],
   "source": [
    "12) What code fragment codes the equivalent circuit if you remove the barrier in the following QuantumCircuit?\n",
    "(See picture in the sample test pdf!)"
   ]
  },
  {
   "cell_type": "code",
   "execution_count": 27,
   "id": "ed6d8c37-ba45-47b2-856e-e3418f063980",
   "metadata": {},
   "outputs": [
    {
     "data": {
      "image/png": "[encoded data removed]",
      "text/plain": [
       "<Figure size 374.326x144.48 with 1 Axes>"
      ]
     },
     "metadata": {},
     "output_type": "display_data"
    },
    {
     "name": "stdout",
     "output_type": "stream",
     "text": [
      "\n",
      "Since S = T^2, the circuit above is equivalent to:\n"
     ]
    },
    {
     "data": {
      "image/png": "[encoded data removed]",
      "text/plain": [
       "<Figure size 314.126x144.48 with 1 Axes>"
      ]
     },
     "metadata": {},
     "output_type": "display_data"
    }
   ],
   "source": [
    "# 12 - A)\n",
    "\n",
    "qc = QuantumCircuit(1, 1)\n",
    "\n",
    "qc.h(0)\n",
    "qc.t(0)\n",
    "\n",
    "qc.t(0)\n",
    "qc.h(0)\n",
    "\n",
    "qc.measure(0, 0)\n",
    "\n",
    "show_figure(qc.draw(\"mpl\"))\n",
    "\n",
    "print(\"\\nSince S = T^2, the circuit above is equivalent to:\")\n",
    "\n",
    "qc = QuantumCircuit(1, 1)\n",
    "\n",
    "qc.h(0)\n",
    "qc.s(0)\n",
    "qc.h(0)\n",
    "\n",
    "qc.measure(0, 0)\n",
    "\n",
    "show_figure(qc.draw(\"mpl\"))\n"
   ]
  },
  {
   "cell_type": "code",
   "execution_count": null,
   "id": "480e1234-494b-49e6-bf59-b802e1105885",
   "metadata": {},
   "outputs": [],
   "source": [
    "13) Given the following code, what is the depth of the circuit?\n",
    "qc = QuantumCircuit(2, 2)\n",
    "\n",
    "qc.h(0)\n",
    "qc.barrier(0)\n",
    "qc.cx(0,1)\n",
    "qc.barrier([0,1])"
   ]
  },
  {
   "cell_type": "code",
   "execution_count": 28,
   "id": "b55e416a-3435-44f4-b7fe-060a4a8550c6",
   "metadata": {},
   "outputs": [
    {
     "name": "stdout",
     "output_type": "stream",
     "text": [
      "\n",
      "Depth of the circuit: 2\n"
     ]
    },
    {
     "data": {
      "image/png": "[encoded data removed]",
      "text/plain": [
       "<Figure size 327.252x204.68 with 1 Axes>"
      ]
     },
     "execution_count": 28,
     "metadata": {},
     "output_type": "execute_result"
    }
   ],
   "source": [
    "# 13 - A)\n",
    "\n",
    "qc = QuantumCircuit(2, 2)\n",
    "\n",
    "qc.h(0)\n",
    "qc.barrier(0)\n",
    "\n",
    "qc.cx(0, 1)\n",
    "qc.barrier([0, 1])\n",
    "\n",
    "# take a look in the docstring!\n",
    "print(f\"\\nDepth of the circuit: {qc.depth()}\")\n",
    "\n",
    "qc.draw(\"mpl\")"
   ]
  },
  {
   "cell_type": "code",
   "execution_count": null,
   "id": "b7613cfa-9063-4071-8753-bd2eec99c6bb",
   "metadata": {},
   "outputs": [],
   "source": [
    "14) Which code snippet would execute a circuit given these parameters?\n",
    "1) Measure the circuit 1024 times,\n",
    "2) use the QASM simulator,\n",
    "3) and use a coupling map that connects three qubits linearly\n",
    "qc = QuantumCircuit(3)\n",
    "\n",
    "# Insert code fragment here\n",
    "result = job.result()"
   ]
  },
  {
   "cell_type": "code",
   "execution_count": 29,
   "id": "fcec4836-42ac-4ec6-ae38-f467c5137b82",
   "metadata": {},
   "outputs": [],
   "source": [
    "# 14 - A)\n",
    "\n",
    "qc = QuantumCircuit(3)\n",
    "\n",
    "qasm_sim = Aer.get_backend(\"qasm_simulator\")\n",
    "\n",
    "# coupling map connecting 3 qubits linearly\n",
    "couple_map = [[0, 1], [1, 2]]\n",
    "\n",
    "job = execute(qc, qasm_sim, shots=1024, coupling_map=couple_map)\n",
    "\n",
    "result = job.result()"
   ]
  },
  {
   "cell_type": "code",
   "execution_count": 30,
   "id": "a296db3f-0bf3-46b9-9a28-a88cc4ae8af3",
   "metadata": {},
   "outputs": [
    {
     "data": {
      "text/plain": [
       "Result(backend_name='qasm_simulator', backend_version='0.9.1', qobj_id='9a0e7233-b460-4510-b1ad-8198409361bf', job_id='fe8dea86-f705-4e25-b167-febaac264f54', success=True, results=[ExperimentResult(shots=1024, success=True, meas_level=2, data=ExperimentResultData(), header=QobjExperimentHeader(clbit_labels=[], creg_sizes=[], global_phase=0.0, memory_slots=0, metadata=None, n_qubits=3, name='circuit-232', qreg_sizes=[['q', 3]], qubit_labels=[['q', 0], ['q', 1], ['q', 2]]), status=DONE, seed_simulator=448953528, metadata={'parallel_state_update': 8, 'noise': 'ideal', 'measure_sampling': True, 'device': 'CPU', 'num_qubits': 0, 'parallel_shots': 1, 'remapped_qubits': False, 'method': 'stabilizer', 'active_input_qubits': [], 'num_clbits': 0, 'input_qubit_map': [], 'fusion': {'enabled': False}}, time_taken=0.00010559600000000001)], date=2021-11-25T10:08:46.579026, status=COMPLETED, status=QobjHeader(backend_name='qasm_simulator', backend_version='0.9.1'), metadata={'time_taken': 0.00046095900000000004, 'parallel_experiments': 1, 'omp_enabled': True, 'max_gpu_memory_mb': 0, 'num_mpi_processes': 1, 'max_memory_mb': 32162, 'mpi_rank': 0}, time_taken=0.0007464885711669922)"
      ]
     },
     "execution_count": 30,
     "metadata": {},
     "output_type": "execute_result"
    }
   ],
   "source": [
    "result"
   ]
  },
  {
   "cell_type": "code",
   "execution_count": null,
   "id": "aa9ad5f9-d86e-45eb-9222-0a03b191dfa4",
   "metadata": {},
   "outputs": [],
   "source": [
    "15) Which of these would execute a circuit on a set of qubits which are coupled in a custom way?\n",
    "from qiskit import QuantumCircuit, execute, BasicAer\n",
    "backend = BasicAer.get_backend('qasm_simulator')\n",
    "qc = QuantumCircuit(3)\n",
    "\n",
    "# insert code here"
   ]
  },
  {
   "cell_type": "code",
   "execution_count": 31,
   "id": "dfcbcd6a-123b-4aa4-be3e-1f34d8f89ef4",
   "metadata": {},
   "outputs": [
    {
     "name": "stderr",
     "output_type": "stream",
     "text": [
      "No classical registers in circuit \"circuit-235\", counts will be empty.\n"
     ]
    },
    {
     "data": {
      "text/plain": [
       "<qiskit.providers.basicaer.basicaerjob.BasicAerJob at 0x7f03bd55e430>"
      ]
     },
     "execution_count": 31,
     "metadata": {},
     "output_type": "execute_result"
    }
   ],
   "source": [
    "# 15 - A)\n",
    "\n",
    "backend = BasicAer.get_backend(\"qasm_simulator\")\n",
    "\n",
    "qc = QuantumCircuit(3)\n",
    "\n",
    "execute(qc, backend, shots=1024, coupling_map=[[0, 1], [1, 2]])"
   ]
  },
  {
   "cell_type": "code",
   "execution_count": null,
   "id": "c9bbb046-95f3-4e3c-909a-89cf17f42d40",
   "metadata": {},
   "outputs": [],
   "source": [
    "16) Which three simulators are available in BasicAer?"
   ]
  },
  {
   "cell_type": "code",
   "execution_count": 32,
   "id": "18e62740-3214-403f-8dd7-d7b61813e301",
   "metadata": {},
   "outputs": [],
   "source": [
    "# 16 - A), C) & D)\n",
    "\n",
    "# answer here: https://qiskit.org/documentation/apidoc/providers_basicaer.html#simulators\n",
    "\n",
    "qasm = BasicAer.get_backend(\"qasm_simulator\")\n",
    "\n",
    "sv = BasicAer.get_backend(\"statevector_simulator\")\n",
    "\n",
    "unitary = BasicAer.get_backend(\"unitary_simulator\")"
   ]
  },
  {
   "cell_type": "code",
   "execution_count": null,
   "id": "e18cc23a-3c8c-4310-890e-9a9c4ddaecba",
   "metadata": {},
   "outputs": [],
   "source": [
    "17) Which line of code would assign a statevector simulator object to the variable backend?"
   ]
  },
  {
   "cell_type": "code",
   "execution_count": null,
   "id": "83fcdc24-b8f9-46bf-88bf-94c0dfbaac29",
   "metadata": {},
   "outputs": [],
   "source": [
    "# 17 - B)\n",
    "\n",
    "backend = BasicAer.get_backend(\"statevector_simulator\")\n",
    "\n"
   ]
  },
  {
   "cell_type": "code",
   "execution_count": null,
   "id": "4b3f0905-0c65-4bde-b35a-1d1578b094d4",
   "metadata": {},
   "outputs": [],
   "source": [
    "18) Which code fragment would yield an operator that represents a single-qubit X gate?"
   ]
  },
  {
   "cell_type": "code",
   "execution_count": 33,
   "id": "5c482916-8bac-43c0-b7a3-165388d0e61b",
   "metadata": {},
   "outputs": [
    {
     "data": {
      "text/plain": [
       "Operator([[0.+0.j, 1.+0.j],\n",
       "          [1.+0.j, 0.+0.j]],\n",
       "         input_dims=(2,), output_dims=(2,))"
      ]
     },
     "execution_count": 33,
     "metadata": {},
     "output_type": "execute_result"
    }
   ],
   "source": [
    "# 18 - C)\n",
    "\n",
    "# info: https://qiskit.org/documentation/stubs/qiskit.quantum_info.Operator.html\n",
    "\n",
    "# # i think the following is possible:\n",
    "# op = Operator([[0, 1], [1, 0]])\n",
    "\n",
    "qc = QuantumCircuit(1)\n",
    "\n",
    "qc.x(0)\n",
    "\n",
    "op = Operator(qc)\n",
    "\n",
    "op"
   ]
  },
  {
   "cell_type": "code",
   "execution_count": null,
   "id": "4bc9a391-9432-4ba9-93f3-c2344a655fe3",
   "metadata": {},
   "outputs": [],
   "source": [
    "19) What would be the fidelity result(s) for these two operators, which differ only by global phase?\n",
    "op_a = Operator(XGate())\n",
    "op_b = numpy.exp(1j * 0.5) * Operator(XGate())"
   ]
  },
  {
   "cell_type": "code",
   "execution_count": 34,
   "id": "826a0e39-4512-4803-8569-7e3a0a9afe9d",
   "metadata": {},
   "outputs": [
    {
     "name": "stdout",
     "output_type": "stream",
     "text": [
      "\n",
      "Process fidelity pF = 1.0\n",
      "\n",
      "Average gate fidelity agF = 1.0\n"
     ]
    }
   ],
   "source": [
    "# 19 - C)\n",
    "\n",
    "# info here: https://qiskit.org/documentation/tutorials/circuits_advanced/02_operators_overview.html#Process-Fidelity\n",
    "# namely:\n",
    "# \"We may also compare operators using the process_fidelity function from the Quantum Information module.\n",
    "# This is an information theoretic quantity for how close two quantum channels are to each other,\n",
    "# and in the case of unitary operators it does not depend on global phase.\"\n",
    "\n",
    "op_a = Operator(XGate())\n",
    "op_b = np.exp(1j * 0.5) * Operator(XGate())\n",
    "\n",
    "pF = process_fidelity(op_a, op_b)\n",
    "\n",
    "print(f'\\nProcess fidelity pF = {pF}')\n",
    "\n",
    "agF = average_gate_fidelity(op_a, op_b)\n",
    "\n",
    "print(f'\\nAverage gate fidelity agF = {agF}')\n",
    "\n",
    "# # code below returns an error, because, of course, op_a and op_b are not states,\n",
    "# # but operators (processes, gates)\n",
    "\n",
    "# sF = state_fidelity(op_a, op_b)\n",
    "\n",
    "# print(f'\\nState fidelity sF = {sF}')"
   ]
  },
  {
   "cell_type": "code",
   "execution_count": null,
   "id": "4a3e5fc0-2b88-4541-9594-f8071bfee4c5",
   "metadata": {},
   "outputs": [],
   "source": [
    "20) Given this code fragment, which output fits most closely with the measurement probability distribution?\n",
    "qc = QuantumCircuit(2, 2)\n",
    "qc.x(0)\n",
    "qc.measure([0,1], [0,1])\n",
    "simulator = Aer.get_backend('qasm_simulator')\n",
    "result = execute(qc, simulator, shots=1000).result()\n",
    "counts = result.get_counts(qc)\n",
    "print(counts)"
   ]
  },
  {
   "cell_type": "code",
   "execution_count": 35,
   "id": "35ba5415-ec75-4d80-8aaa-724407b2db49",
   "metadata": {},
   "outputs": [
    {
     "data": {
      "image/png": "[encoded data removed]",
      "text/plain": [
       "<Figure size 327.252x204.68 with 1 Axes>"
      ]
     },
     "metadata": {},
     "output_type": "display_data"
    },
    {
     "name": "stdout",
     "output_type": "stream",
     "text": [
      "{'01': 1000}\n"
     ]
    }
   ],
   "source": [
    "# 20 - B)\n",
    "\n",
    "# BE VERY CAREFUL WITH THE ENDIANNESS!!!\n",
    "\n",
    "qc = QuantumCircuit(2, 2)\n",
    "\n",
    "qc.x(0)\n",
    "\n",
    "# better to visualize order of measurements\n",
    "qc.barrier()\n",
    "\n",
    "qc.measure([0, 1], [0, 1])\n",
    "\n",
    "show_figure(qc.draw(\"mpl\"))\n",
    "\n",
    "simulator = Aer.get_backend(\"qasm_simulator\")\n",
    "result = execute(qc, simulator, shots=1000).result()\n",
    "counts = result.get_counts(qc)\n",
    "\n",
    "print(counts)"
   ]
  },
  {
   "cell_type": "code",
   "execution_count": null,
   "id": "386a4d03-043c-4c1f-8514-5a571424cd88",
   "metadata": {},
   "outputs": [],
   "source": [
    "Further explorations\n",
    "Some other points to be addressed. They were not explicitly covered in the sample exam, but are topics relevant to the actual exam, according to the study guide and \"Section\" available here.\n",
    "\n",
    "Implement QASM"
   ]
  },
  {
   "cell_type": "code",
   "execution_count": 36,
   "id": "099883ca-f0ec-4752-b8f3-dd53f025c3cb",
   "metadata": {},
   "outputs": [
    {
     "data": {
      "image/png": "[encoded data removed]",
      "text/plain": [
       "<Figure size 387.452x204.68 with 1 Axes>"
      ]
     },
     "metadata": {},
     "output_type": "display_data"
    },
    {
     "name": "stdout",
     "output_type": "stream",
     "text": [
      "OPENQASM 2.0;\n",
      "include \"qelib1.inc\";\n",
      "qreg q[2];\n",
      "creg c[2];\n",
      "h q[0];\n",
      "cx q[0],q[1];\n",
      "barrier q[0],q[1];\n",
      "measure q[0] -> c[0];\n",
      "measure q[1] -> c[1];\n",
      "\n",
      "\n",
      "\n",
      "\u001b[92mOPENQASM\u001b[39m \u001b[96m2\u001b[39m.\u001b[96m0\u001b[39m;\n",
      "\u001b[92minclude\u001b[39m\u001b[91m \"qelib1.inc\"\u001b[39m;\n",
      "\u001b[92mqreg\u001b[39m q[\u001b[96m2\u001b[39m];\n",
      "\u001b[92mcreg\u001b[39m c[\u001b[96m2\u001b[39m];\n",
      "\u001b[95mh\u001b[39m q[\u001b[96m0\u001b[39m];\n",
      "\u001b[95mcx\u001b[39m q[\u001b[96m0\u001b[39m],q[\u001b[96m1\u001b[39m];\n",
      "\u001b[94mbarrier\u001b[39m q[\u001b[96m0\u001b[39m],q[\u001b[96m1\u001b[39m];\n",
      "\u001b[94mmeasure\u001b[39m q[\u001b[96m0\u001b[39m] -> c[\u001b[96m0\u001b[39m];\n",
      "\u001b[94mmeasure\u001b[39m q[\u001b[96m1\u001b[39m] -> c[\u001b[96m1\u001b[39m];\n",
      "\n",
      "None\n"
     ]
    }
   ],
   "source": [
    "# openqasm string\n",
    "\n",
    "qc = QuantumCircuit(2, 2)\n",
    "\n",
    "qc.h(0)\n",
    "qc.cnot(0, 1)\n",
    "\n",
    "qc.barrier()\n",
    "\n",
    "qc.measure([0, 1], [0, 1])\n",
    "\n",
    "####################################\n",
    "\n",
    "show_figure(qc.draw(\"mpl\"))\n",
    "\n",
    "####################################\n",
    "\n",
    "print(qc.qasm())\n",
    "\n",
    "print(\"\\n\")\n",
    "\n",
    "print(qc.qasm(formatted=True))"
   ]
  },
  {
   "cell_type": "code",
   "execution_count": 38,
   "id": "18d9e8e0-576d-4792-ad99-83644c7f3e79",
   "metadata": {},
   "outputs": [],
   "source": [
    "qasm_str = qc.qasm(filename=\"qasm_test\")"
   ]
  },
  {
   "cell_type": "code",
   "execution_count": 39,
   "id": "f0a3fd49-f457-4f2c-997b-1d4f090bb2f8",
   "metadata": {},
   "outputs": [
    {
     "data": {
      "image/png": "[encoded data removed]",
      "text/plain": [
       "<Figure size 387.452x204.68 with 1 Axes>"
      ]
     },
     "execution_count": 39,
     "metadata": {},
     "output_type": "execute_result"
    }
   ],
   "source": [
    "qc_test_str = QuantumCircuit.from_qasm_str(qasm_str)\n",
    "\n",
    "qc_test_str.draw(\"mpl\")"
   ]
  },
  {
   "cell_type": "code",
   "execution_count": 40,
   "id": "b58a441f-7822-40af-8425-d934a15cb544",
   "metadata": {},
   "outputs": [
    {
     "data": {
      "image/png": "[encoded data removed]",
      "text/plain": [
       "<Figure size 387.452x204.68 with 1 Axes>"
      ]
     },
     "execution_count": 40,
     "metadata": {},
     "output_type": "execute_result"
    }
   ],
   "source": [
    "qc_test_file = QuantumCircuit.from_qasm_file(\"qasm_test\")\n",
    "\n",
    "qc_test_file.draw(\"mpl\")"
   ]
  },
  {
   "cell_type": "code",
   "execution_count": null,
   "id": "4b4bbf83-b757-4eb7-9494-7fbe9946fd87",
   "metadata": {},
   "outputs": [],
   "source": [
    "Unitary simulator backend"
   ]
  },
  {
   "cell_type": "code",
   "execution_count": 41,
   "id": "8a8abea0-72d5-4032-894b-38992fb73a27",
   "metadata": {},
   "outputs": [
    {
     "data": {
      "text/plain": [
       "array([[ 0.70710678+0.00000000e+00j,  0.70710678-8.65956056e-17j,\n",
       "         0.        +0.00000000e+00j,  0.        +0.00000000e+00j],\n",
       "       [ 0.        +0.00000000e+00j,  0.        +0.00000000e+00j,\n",
       "         0.70710678+0.00000000e+00j, -0.70710678+8.65956056e-17j],\n",
       "       [ 0.        +0.00000000e+00j,  0.        +0.00000000e+00j,\n",
       "         0.70710678+0.00000000e+00j,  0.70710678-8.65956056e-17j],\n",
       "       [ 0.70710678+0.00000000e+00j, -0.70710678+8.65956056e-17j,\n",
       "         0.        +0.00000000e+00j,  0.        +0.00000000e+00j]])"
      ]
     },
     "execution_count": 41,
     "metadata": {},
     "output_type": "execute_result"
    }
   ],
   "source": [
    "qc = QuantumCircuit(2, 2)\n",
    "\n",
    "qc.h(0)\n",
    "qc.cnot(0, 1)\n",
    "\n",
    "qc.barrier()\n",
    "\n",
    "##########################\n",
    "\n",
    "backend = Aer.get_backend(\"unitary_simulator\")\n",
    "\n",
    "unitary = execute(qc, backend).result().get_unitary()\n",
    "\n",
    "unitary"
   ]
  },
  {
   "cell_type": "code",
   "execution_count": 42,
   "id": "86e1ffe4-1a7b-4101-bd39-5dbc303acffc",
   "metadata": {},
   "outputs": [
    {
     "data": {
      "image/png": "[encoded data removed]",
      "text/plain": [
       "<Figure size 576x216 with 4 Axes>"
      ]
     },
     "metadata": {
      "needs_background": "light"
     },
     "output_type": "display_data"
    }
   ],
   "source": [
    "fig, ax = plt.subplots(1, 2, figsize=(8, 3))\n",
    "\n",
    "sns.heatmap(np.real(unitary), annot=True, ax=ax[0])\n",
    "ax[0].set_title(\"Real part\")\n",
    "\n",
    "sns.heatmap(np.imag(unitary), annot=True, ax=ax[1])\n",
    "ax[1].set_title(\"Imaginary part\")\n",
    "\n",
    "plt.tight_layout()\n",
    "plt.show()"
   ]
  },
  {
   "cell_type": "code",
   "execution_count": null,
   "id": "284fd80b-99b9-4ffa-bfa9-929d459ce43e",
   "metadata": {},
   "outputs": [],
   "source": [
    "Gate from circuit"
   ]
  },
  {
   "cell_type": "code",
   "execution_count": 43,
   "id": "9dc87af8-59cf-48b8-a1c4-b2dce134936d",
   "metadata": {},
   "outputs": [
    {
     "data": {
      "image/png": "[encoded data removed]",
      "text/plain": [
       "<Figure size 267.197x204.68 with 1 Axes>"
      ]
     },
     "metadata": {},
     "output_type": "display_data"
    },
    {
     "name": "stdout",
     "output_type": "stream",
     "text": [
      "Statevector:\n",
      "\n",
      "[0.70710678+0.j 0.        +0.j 0.        +0.j 0.        +0.j\n",
      " 0.        +0.j 0.        +0.j 0.        +0.j 0.70710678+0.j]\n"
     ]
    },
    {
     "data": {
      "image/png": "[encoded data removed]",
      "text/plain": [
       "<Figure size 576x360 with 2 Axes>"
      ]
     },
     "metadata": {
      "needs_background": "light"
     },
     "output_type": "display_data"
    },
    {
     "name": "stdout",
     "output_type": "stream",
     "text": [
      "Gate in the circuit:\n"
     ]
    },
    {
     "data": {
      "image/png": "[encoded data removed]",
      "text/plain": [
       "<Figure size 206.997x204.68 with 1 Axes>"
      ]
     },
     "metadata": {},
     "output_type": "display_data"
    },
    {
     "name": "stdout",
     "output_type": "stream",
     "text": [
      "Decomposed gate in the circuit:\n"
     ]
    },
    {
     "data": {
      "image/png": "[encoded data removed]",
      "text/plain": [
       "<Figure size 267.197x204.68 with 1 Axes>"
      ]
     },
     "metadata": {},
     "output_type": "display_data"
    }
   ],
   "source": [
    "qc = QuantumCircuit(3)\n",
    "\n",
    "qc.h(0)\n",
    "qc.cnot(0, 1)\n",
    "qc.cnot(0, 2)\n",
    "\n",
    "show_figure(qc.draw(\"mpl\"))\n",
    "\n",
    "####################################\n",
    "\n",
    "sv = Statevector.from_label(\"000\")\n",
    "\n",
    "sv = sv.evolve(qc)\n",
    "\n",
    "print(f'Statevector:\\n\\n{sv.data}')\n",
    "\n",
    "show_figure(plot_state_hinton(sv))\n",
    "\n",
    "####################################\n",
    "\n",
    "gate = qc.to_gate()\n",
    "\n",
    "gate.name = \"my_gate\"\n",
    "\n",
    "####################################\n",
    "\n",
    "qc2 = QuantumCircuit(3)\n",
    "\n",
    "qc2.append(gate, [0, 1, 2])\n",
    "\n",
    "print(\"Gate in the circuit:\")\n",
    "show_figure(qc2.draw(\"mpl\"))\n",
    "\n",
    "print(\"Decomposed gate in the circuit:\")\n",
    "show_figure(qc2.decompose().draw(\"mpl\"))\n"
   ]
  },
  {
   "cell_type": "code",
   "execution_count": null,
   "id": "c236a2c1-35ba-4b9e-a723-e962e076a945",
   "metadata": {},
   "outputs": [],
   "source": [
    "Job monitoring"
   ]
  },
  {
   "cell_type": "code",
   "execution_count": null,
   "id": "cdf8ebd3-ec8a-4b5b-9f93-b9f41cb51cda",
   "metadata": {},
   "outputs": [],
   "source": [
    "# that's more useful when \"backend\" is a real hardware, of course\n",
    "job = execute(qc, backend)\n",
    "job_monitor(job)"
   ]
  },
  {
   "cell_type": "code",
   "execution_count": null,
   "id": "2564cd1c-6fa2-45fe-9485-a4687a222889",
   "metadata": {},
   "outputs": [],
   "source": []
  },
  {
   "cell_type": "code",
   "execution_count": null,
   "id": "cc9bd4e6-3921-48eb-b2cf-2c149767f760",
   "metadata": {},
   "outputs": [],
   "source": [
    "bell = QuantumCircuit(2, 2)\n",
    "bell.h(0)\n",
    "bell.cx(0, 1)\n",
    "\n",
    "meas = QuantumCircuit(2, 2)\n",
    "meas.measure([0,1], [0,1])\n",
    "\n",
    "circ = bell.compose(meas)"
   ]
  },
  {
   "cell_type": "code",
   "execution_count": null,
   "id": "caf2f61c-e911-4a2a-94d1-1fc82373ab78",
   "metadata": {},
   "outputs": [],
   "source": [
    "backend = Aer.get_backend(\"qasm_simulator\")\n",
    "\n",
    "job = execute(circ, backend, shots=1e5, seed_simulator=42)\n",
    "results = job.result()\n",
    "counts = results.get_counts()\n",
    "\n",
    "plot_histogram(counts, title=\"Results\", figsize=(6, 4))"
   ]
  },
  {
   "cell_type": "code",
   "execution_count": null,
   "id": "e054bbe6-6ffd-4283-a50e-76f17d3be410",
   "metadata": {},
   "outputs": [],
   "source": [
    "simulator = Aer.get_backend(\"statevector_simulator\")\n",
    "\n",
    "job = execute(bell, simulator)\n",
    "results = job.result()\n",
    "\n",
    "psi = results.get_statevector(bell)\n",
    "\n",
    "print(psi)"
   ]
  },
  {
   "cell_type": "code",
   "execution_count": null,
   "id": "72da519d-b245-40ce-be7a-20849f26800d",
   "metadata": {},
   "outputs": [],
   "source": [
    "# \"here we see that there is no information about the quantum state in the single qubit space as all vectors are zero.\"\n",
    "# if it was a separable state, it would be shown!\n",
    "show_figure(plot_bloch_multivector(psi))\n",
    "\n",
    "show_figure(plot_state_city(psi))\n",
    "show_figure(plot_state_hinton(psi))\n",
    "\n",
    "show_figure(plot_state_qsphere(psi))"
   ]
  }
 ],
 "metadata": {
  "kernelspec": {
   "display_name": "Qiskit v0.35.0 (ipykernel)",
   "language": "python",
   "name": "python3"
  },
  "language_info": {
   "codemirror_mode": {
    "name": "ipython",
    "version": 3
   },
   "file_extension": ".py",
   "mimetype": "text/x-python",
   "name": "python",
   "nbconvert_exporter": "python",
   "pygments_lexer": "ipython3",
   "version": "3.8.13"
  },
  "widgets": {
   "application/vnd.jupyter.widget-state+json": {
    "state": {},
    "version_major": 2,
    "version_minor": 0
   }
  }
 },
 "nbformat": 4,
 "nbformat_minor": 5
}
